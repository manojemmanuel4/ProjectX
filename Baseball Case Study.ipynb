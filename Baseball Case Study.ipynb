{
 "cells": [
  {
   "cell_type": "markdown",
   "metadata": {},
   "source": [
    "# Baseball Case Study"
   ]
  },
  {
   "cell_type": "markdown",
   "metadata": {},
   "source": [
    "This dataset utilizes data from 2014 Major League Baseball seasons in order to develop an algorithm that predicts the number of wins for a given team in the 2015 season based on several different indicators of success. There are 16 different features that will be used as the inputs to the machine learning and the output will be a value that represents the number of wins. \n",
    "\n",
    "-- Input features: Runs, At Bats, Hits, Doubles, Triples, Homeruns, Walks, Strikeouts, Stolen Bases, Runs Allowed, Earned Runs, Earned Run Average (ERA), Shutouts, Saves, Complete Games and Errors\n",
    "\n",
    "-- Output: Number of predicted wins (W)\n",
    "\n",
    "To understand the columns meaning, follow the link given below to understand the baseball statistics: https://en.wikipedia.org/wiki/Baseball_statistics"
   ]
  },
  {
   "cell_type": "code",
   "execution_count": 1,
   "metadata": {},
   "outputs": [],
   "source": [
    "import pandas as pd\n",
    "import numpy as np\n",
    "import matplotlib.pyplot as plt\n",
    "import seaborn as sb\n",
    "import warnings\n",
    "warnings.filterwarnings(\"ignore\")"
   ]
  },
  {
   "cell_type": "code",
   "execution_count": 2,
   "metadata": {},
   "outputs": [
    {
     "data": {
      "text/html": [
       "<div>\n",
       "<style scoped>\n",
       "    .dataframe tbody tr th:only-of-type {\n",
       "        vertical-align: middle;\n",
       "    }\n",
       "\n",
       "    .dataframe tbody tr th {\n",
       "        vertical-align: top;\n",
       "    }\n",
       "\n",
       "    .dataframe thead th {\n",
       "        text-align: right;\n",
       "    }\n",
       "</style>\n",
       "<table border=\"1\" class=\"dataframe\">\n",
       "  <thead>\n",
       "    <tr style=\"text-align: right;\">\n",
       "      <th></th>\n",
       "      <th>W</th>\n",
       "      <th>R</th>\n",
       "      <th>AB</th>\n",
       "      <th>H</th>\n",
       "      <th>2B</th>\n",
       "      <th>3B</th>\n",
       "      <th>HR</th>\n",
       "      <th>BB</th>\n",
       "      <th>SO</th>\n",
       "      <th>SB</th>\n",
       "      <th>RA</th>\n",
       "      <th>ER</th>\n",
       "      <th>ERA</th>\n",
       "      <th>CG</th>\n",
       "      <th>SHO</th>\n",
       "      <th>SV</th>\n",
       "      <th>E</th>\n",
       "    </tr>\n",
       "  </thead>\n",
       "  <tbody>\n",
       "    <tr>\n",
       "      <th>0</th>\n",
       "      <td>95</td>\n",
       "      <td>724</td>\n",
       "      <td>5575</td>\n",
       "      <td>1497</td>\n",
       "      <td>300</td>\n",
       "      <td>42</td>\n",
       "      <td>139</td>\n",
       "      <td>383</td>\n",
       "      <td>973</td>\n",
       "      <td>104</td>\n",
       "      <td>641</td>\n",
       "      <td>601</td>\n",
       "      <td>3.73</td>\n",
       "      <td>2</td>\n",
       "      <td>8</td>\n",
       "      <td>56</td>\n",
       "      <td>88</td>\n",
       "    </tr>\n",
       "    <tr>\n",
       "      <th>1</th>\n",
       "      <td>83</td>\n",
       "      <td>696</td>\n",
       "      <td>5467</td>\n",
       "      <td>1349</td>\n",
       "      <td>277</td>\n",
       "      <td>44</td>\n",
       "      <td>156</td>\n",
       "      <td>439</td>\n",
       "      <td>1264</td>\n",
       "      <td>70</td>\n",
       "      <td>700</td>\n",
       "      <td>653</td>\n",
       "      <td>4.07</td>\n",
       "      <td>2</td>\n",
       "      <td>12</td>\n",
       "      <td>45</td>\n",
       "      <td>86</td>\n",
       "    </tr>\n",
       "    <tr>\n",
       "      <th>2</th>\n",
       "      <td>81</td>\n",
       "      <td>669</td>\n",
       "      <td>5439</td>\n",
       "      <td>1395</td>\n",
       "      <td>303</td>\n",
       "      <td>29</td>\n",
       "      <td>141</td>\n",
       "      <td>533</td>\n",
       "      <td>1157</td>\n",
       "      <td>86</td>\n",
       "      <td>640</td>\n",
       "      <td>584</td>\n",
       "      <td>3.67</td>\n",
       "      <td>11</td>\n",
       "      <td>10</td>\n",
       "      <td>38</td>\n",
       "      <td>79</td>\n",
       "    </tr>\n",
       "    <tr>\n",
       "      <th>3</th>\n",
       "      <td>76</td>\n",
       "      <td>622</td>\n",
       "      <td>5533</td>\n",
       "      <td>1381</td>\n",
       "      <td>260</td>\n",
       "      <td>27</td>\n",
       "      <td>136</td>\n",
       "      <td>404</td>\n",
       "      <td>1231</td>\n",
       "      <td>68</td>\n",
       "      <td>701</td>\n",
       "      <td>643</td>\n",
       "      <td>3.98</td>\n",
       "      <td>7</td>\n",
       "      <td>9</td>\n",
       "      <td>37</td>\n",
       "      <td>101</td>\n",
       "    </tr>\n",
       "    <tr>\n",
       "      <th>4</th>\n",
       "      <td>74</td>\n",
       "      <td>689</td>\n",
       "      <td>5605</td>\n",
       "      <td>1515</td>\n",
       "      <td>289</td>\n",
       "      <td>49</td>\n",
       "      <td>151</td>\n",
       "      <td>455</td>\n",
       "      <td>1259</td>\n",
       "      <td>83</td>\n",
       "      <td>803</td>\n",
       "      <td>746</td>\n",
       "      <td>4.64</td>\n",
       "      <td>7</td>\n",
       "      <td>12</td>\n",
       "      <td>35</td>\n",
       "      <td>86</td>\n",
       "    </tr>\n",
       "  </tbody>\n",
       "</table>\n",
       "</div>"
      ],
      "text/plain": [
       "    W    R    AB     H   2B  3B   HR   BB    SO   SB   RA   ER   ERA  CG  SHO  \\\n",
       "0  95  724  5575  1497  300  42  139  383   973  104  641  601  3.73   2    8   \n",
       "1  83  696  5467  1349  277  44  156  439  1264   70  700  653  4.07   2   12   \n",
       "2  81  669  5439  1395  303  29  141  533  1157   86  640  584  3.67  11   10   \n",
       "3  76  622  5533  1381  260  27  136  404  1231   68  701  643  3.98   7    9   \n",
       "4  74  689  5605  1515  289  49  151  455  1259   83  803  746  4.64   7   12   \n",
       "\n",
       "   SV    E  \n",
       "0  56   88  \n",
       "1  45   86  \n",
       "2  38   79  \n",
       "3  37  101  \n",
       "4  35   86  "
      ]
     },
     "execution_count": 2,
     "metadata": {},
     "output_type": "execute_result"
    }
   ],
   "source": [
    "#Reading the dataset\n",
    "df=pd.read_csv(\"baseball.csv\")\n",
    "df.head()"
   ]
  },
  {
   "cell_type": "markdown",
   "metadata": {},
   "source": [
    "Let us check the shape of the dataset"
   ]
  },
  {
   "cell_type": "code",
   "execution_count": 3,
   "metadata": {},
   "outputs": [
    {
     "data": {
      "text/plain": [
       "(30, 17)"
      ]
     },
     "execution_count": 3,
     "metadata": {},
     "output_type": "execute_result"
    }
   ],
   "source": [
    "df.shape"
   ]
  },
  {
   "cell_type": "markdown",
   "metadata": {},
   "source": [
    "The dataset has 30 rows and 17 columns"
   ]
  },
  {
   "cell_type": "code",
   "execution_count": 4,
   "metadata": {},
   "outputs": [
    {
     "data": {
      "text/plain": [
       "Index(['W', 'R', 'AB', 'H', '2B', '3B', 'HR', 'BB', 'SO', 'SB', 'RA', 'ER',\n",
       "       'ERA', 'CG', 'SHO', 'SV', 'E'],\n",
       "      dtype='object')"
      ]
     },
     "execution_count": 4,
     "metadata": {},
     "output_type": "execute_result"
    }
   ],
   "source": [
    "df.columns"
   ]
  },
  {
   "cell_type": "markdown",
   "metadata": {},
   "source": [
    "# About the Columns"
   ]
  },
  {
   "cell_type": "markdown",
   "metadata": {},
   "source": [
    "1. W – Win: number of games where pitcher was pitching while their team took the lead and went on to win, also the starter needs to pitch at least 5 innings of work (also related: winning percentage)\n",
    "2. R – Runs scored: number of times a player crosses home plate\n",
    "3. AB – At bat: plate appearances, not including bases on balls, being hit by pitch, sacrifices, interference, or obstruction\n",
    "4. H – Hit: reaching base because of a batted, fair ball without error by the defense\n",
    "5. 2B – Double: hits on which the batter reaches second base safely without the contribution of a fielding error\n",
    "6. 3B – Triple: hits on which the batter reaches third base safely without the contribution of a fielding error\n",
    "7. HR – Home runs: hits on which the batter successfully touched all four bases, without the contribution of a fielding error\n",
    "8. BB – Base on balls (also called a \"walk\"): hitter not swinging at four pitches called out of the strike zone and awarded first base.\n",
    "9. SO – Strikeouts: The number of times a player strikes out while at bat. SB – Bases Stolen: The total number of bases a player has stolen as a baserunner.\n",
    "10. SB – Stolen base: number of bases advanced by the runner while the ball is in the possession of the defense\n",
    "11. RA – Run average: number of runs allowed times nine divided by innings pitched\n",
    "12. ER – Earned run: number of runs that did not occur as a result of errors or passed balls\n",
    "13. ERA – Earned run average: total number of earned runs (see \"ER\" above), multiplied by 9, divided by innings pitched\n",
    "14. CG – Complete game: number of games where player was the only pitcher for their team\n",
    "15. SHO – Shutout: number of complete games pitched with no runs allowed\n",
    "16. SV – Save: number of games where the pitcher enters a game led by the pitcher's team, finishes the game without surrendering the lead, is not the winning pitcher, and either (a) the lead was three runs or fewer when the pitcher entered the game; (b) the potential tying run was on base, at bat, or on deck; or (c) the pitcher pitched three or more innings\n",
    "17. E – Errors: number of times a fielder fails to make a play he should have made with common effort, and the offense benefits as a result"
   ]
  },
  {
   "cell_type": "markdown",
   "metadata": {},
   "source": [
    "## Re-arranging the columns for better understanding"
   ]
  },
  {
   "cell_type": "code",
   "execution_count": 5,
   "metadata": {},
   "outputs": [
    {
     "data": {
      "text/html": [
       "<div>\n",
       "<style scoped>\n",
       "    .dataframe tbody tr th:only-of-type {\n",
       "        vertical-align: middle;\n",
       "    }\n",
       "\n",
       "    .dataframe tbody tr th {\n",
       "        vertical-align: top;\n",
       "    }\n",
       "\n",
       "    .dataframe thead th {\n",
       "        text-align: right;\n",
       "    }\n",
       "</style>\n",
       "<table border=\"1\" class=\"dataframe\">\n",
       "  <thead>\n",
       "    <tr style=\"text-align: right;\">\n",
       "      <th></th>\n",
       "      <th>R</th>\n",
       "      <th>AB</th>\n",
       "      <th>H</th>\n",
       "      <th>2B</th>\n",
       "      <th>3B</th>\n",
       "      <th>HR</th>\n",
       "      <th>BB</th>\n",
       "      <th>SO</th>\n",
       "      <th>SB</th>\n",
       "      <th>RA</th>\n",
       "      <th>ER</th>\n",
       "      <th>ERA</th>\n",
       "      <th>CG</th>\n",
       "      <th>SHO</th>\n",
       "      <th>SV</th>\n",
       "      <th>E</th>\n",
       "      <th>W</th>\n",
       "    </tr>\n",
       "  </thead>\n",
       "  <tbody>\n",
       "    <tr>\n",
       "      <th>0</th>\n",
       "      <td>724</td>\n",
       "      <td>5575</td>\n",
       "      <td>1497</td>\n",
       "      <td>300</td>\n",
       "      <td>42</td>\n",
       "      <td>139</td>\n",
       "      <td>383</td>\n",
       "      <td>973</td>\n",
       "      <td>104</td>\n",
       "      <td>641</td>\n",
       "      <td>601</td>\n",
       "      <td>3.73</td>\n",
       "      <td>2</td>\n",
       "      <td>8</td>\n",
       "      <td>56</td>\n",
       "      <td>88</td>\n",
       "      <td>95</td>\n",
       "    </tr>\n",
       "    <tr>\n",
       "      <th>1</th>\n",
       "      <td>696</td>\n",
       "      <td>5467</td>\n",
       "      <td>1349</td>\n",
       "      <td>277</td>\n",
       "      <td>44</td>\n",
       "      <td>156</td>\n",
       "      <td>439</td>\n",
       "      <td>1264</td>\n",
       "      <td>70</td>\n",
       "      <td>700</td>\n",
       "      <td>653</td>\n",
       "      <td>4.07</td>\n",
       "      <td>2</td>\n",
       "      <td>12</td>\n",
       "      <td>45</td>\n",
       "      <td>86</td>\n",
       "      <td>83</td>\n",
       "    </tr>\n",
       "    <tr>\n",
       "      <th>2</th>\n",
       "      <td>669</td>\n",
       "      <td>5439</td>\n",
       "      <td>1395</td>\n",
       "      <td>303</td>\n",
       "      <td>29</td>\n",
       "      <td>141</td>\n",
       "      <td>533</td>\n",
       "      <td>1157</td>\n",
       "      <td>86</td>\n",
       "      <td>640</td>\n",
       "      <td>584</td>\n",
       "      <td>3.67</td>\n",
       "      <td>11</td>\n",
       "      <td>10</td>\n",
       "      <td>38</td>\n",
       "      <td>79</td>\n",
       "      <td>81</td>\n",
       "    </tr>\n",
       "    <tr>\n",
       "      <th>3</th>\n",
       "      <td>622</td>\n",
       "      <td>5533</td>\n",
       "      <td>1381</td>\n",
       "      <td>260</td>\n",
       "      <td>27</td>\n",
       "      <td>136</td>\n",
       "      <td>404</td>\n",
       "      <td>1231</td>\n",
       "      <td>68</td>\n",
       "      <td>701</td>\n",
       "      <td>643</td>\n",
       "      <td>3.98</td>\n",
       "      <td>7</td>\n",
       "      <td>9</td>\n",
       "      <td>37</td>\n",
       "      <td>101</td>\n",
       "      <td>76</td>\n",
       "    </tr>\n",
       "    <tr>\n",
       "      <th>4</th>\n",
       "      <td>689</td>\n",
       "      <td>5605</td>\n",
       "      <td>1515</td>\n",
       "      <td>289</td>\n",
       "      <td>49</td>\n",
       "      <td>151</td>\n",
       "      <td>455</td>\n",
       "      <td>1259</td>\n",
       "      <td>83</td>\n",
       "      <td>803</td>\n",
       "      <td>746</td>\n",
       "      <td>4.64</td>\n",
       "      <td>7</td>\n",
       "      <td>12</td>\n",
       "      <td>35</td>\n",
       "      <td>86</td>\n",
       "      <td>74</td>\n",
       "    </tr>\n",
       "    <tr>\n",
       "      <th>5</th>\n",
       "      <td>891</td>\n",
       "      <td>5509</td>\n",
       "      <td>1480</td>\n",
       "      <td>308</td>\n",
       "      <td>17</td>\n",
       "      <td>232</td>\n",
       "      <td>570</td>\n",
       "      <td>1151</td>\n",
       "      <td>88</td>\n",
       "      <td>670</td>\n",
       "      <td>609</td>\n",
       "      <td>3.80</td>\n",
       "      <td>7</td>\n",
       "      <td>10</td>\n",
       "      <td>34</td>\n",
       "      <td>88</td>\n",
       "      <td>93</td>\n",
       "    </tr>\n",
       "    <tr>\n",
       "      <th>6</th>\n",
       "      <td>764</td>\n",
       "      <td>5567</td>\n",
       "      <td>1397</td>\n",
       "      <td>272</td>\n",
       "      <td>19</td>\n",
       "      <td>212</td>\n",
       "      <td>554</td>\n",
       "      <td>1227</td>\n",
       "      <td>63</td>\n",
       "      <td>698</td>\n",
       "      <td>652</td>\n",
       "      <td>4.03</td>\n",
       "      <td>3</td>\n",
       "      <td>4</td>\n",
       "      <td>48</td>\n",
       "      <td>93</td>\n",
       "      <td>87</td>\n",
       "    </tr>\n",
       "    <tr>\n",
       "      <th>7</th>\n",
       "      <td>713</td>\n",
       "      <td>5485</td>\n",
       "      <td>1370</td>\n",
       "      <td>246</td>\n",
       "      <td>20</td>\n",
       "      <td>217</td>\n",
       "      <td>418</td>\n",
       "      <td>1331</td>\n",
       "      <td>44</td>\n",
       "      <td>693</td>\n",
       "      <td>646</td>\n",
       "      <td>4.05</td>\n",
       "      <td>0</td>\n",
       "      <td>10</td>\n",
       "      <td>43</td>\n",
       "      <td>77</td>\n",
       "      <td>81</td>\n",
       "    </tr>\n",
       "    <tr>\n",
       "      <th>8</th>\n",
       "      <td>644</td>\n",
       "      <td>5485</td>\n",
       "      <td>1383</td>\n",
       "      <td>278</td>\n",
       "      <td>32</td>\n",
       "      <td>167</td>\n",
       "      <td>436</td>\n",
       "      <td>1310</td>\n",
       "      <td>87</td>\n",
       "      <td>642</td>\n",
       "      <td>604</td>\n",
       "      <td>3.74</td>\n",
       "      <td>1</td>\n",
       "      <td>12</td>\n",
       "      <td>60</td>\n",
       "      <td>95</td>\n",
       "      <td>80</td>\n",
       "    </tr>\n",
       "    <tr>\n",
       "      <th>9</th>\n",
       "      <td>748</td>\n",
       "      <td>5640</td>\n",
       "      <td>1495</td>\n",
       "      <td>294</td>\n",
       "      <td>33</td>\n",
       "      <td>161</td>\n",
       "      <td>478</td>\n",
       "      <td>1148</td>\n",
       "      <td>71</td>\n",
       "      <td>753</td>\n",
       "      <td>694</td>\n",
       "      <td>4.31</td>\n",
       "      <td>3</td>\n",
       "      <td>10</td>\n",
       "      <td>40</td>\n",
       "      <td>97</td>\n",
       "      <td>78</td>\n",
       "    </tr>\n",
       "    <tr>\n",
       "      <th>10</th>\n",
       "      <td>751</td>\n",
       "      <td>5511</td>\n",
       "      <td>1419</td>\n",
       "      <td>279</td>\n",
       "      <td>32</td>\n",
       "      <td>172</td>\n",
       "      <td>503</td>\n",
       "      <td>1233</td>\n",
       "      <td>101</td>\n",
       "      <td>733</td>\n",
       "      <td>680</td>\n",
       "      <td>4.24</td>\n",
       "      <td>5</td>\n",
       "      <td>9</td>\n",
       "      <td>45</td>\n",
       "      <td>119</td>\n",
       "      <td>88</td>\n",
       "    </tr>\n",
       "    <tr>\n",
       "      <th>11</th>\n",
       "      <td>729</td>\n",
       "      <td>5459</td>\n",
       "      <td>1363</td>\n",
       "      <td>278</td>\n",
       "      <td>26</td>\n",
       "      <td>230</td>\n",
       "      <td>486</td>\n",
       "      <td>1392</td>\n",
       "      <td>121</td>\n",
       "      <td>618</td>\n",
       "      <td>572</td>\n",
       "      <td>3.57</td>\n",
       "      <td>5</td>\n",
       "      <td>13</td>\n",
       "      <td>39</td>\n",
       "      <td>85</td>\n",
       "      <td>86</td>\n",
       "    </tr>\n",
       "    <tr>\n",
       "      <th>12</th>\n",
       "      <td>661</td>\n",
       "      <td>5417</td>\n",
       "      <td>1331</td>\n",
       "      <td>243</td>\n",
       "      <td>21</td>\n",
       "      <td>176</td>\n",
       "      <td>435</td>\n",
       "      <td>1150</td>\n",
       "      <td>52</td>\n",
       "      <td>675</td>\n",
       "      <td>630</td>\n",
       "      <td>3.94</td>\n",
       "      <td>2</td>\n",
       "      <td>12</td>\n",
       "      <td>46</td>\n",
       "      <td>93</td>\n",
       "      <td>85</td>\n",
       "    </tr>\n",
       "    <tr>\n",
       "      <th>13</th>\n",
       "      <td>656</td>\n",
       "      <td>5544</td>\n",
       "      <td>1379</td>\n",
       "      <td>262</td>\n",
       "      <td>22</td>\n",
       "      <td>198</td>\n",
       "      <td>478</td>\n",
       "      <td>1336</td>\n",
       "      <td>69</td>\n",
       "      <td>726</td>\n",
       "      <td>677</td>\n",
       "      <td>4.16</td>\n",
       "      <td>6</td>\n",
       "      <td>12</td>\n",
       "      <td>45</td>\n",
       "      <td>94</td>\n",
       "      <td>76</td>\n",
       "    </tr>\n",
       "    <tr>\n",
       "      <th>14</th>\n",
       "      <td>694</td>\n",
       "      <td>5600</td>\n",
       "      <td>1405</td>\n",
       "      <td>277</td>\n",
       "      <td>46</td>\n",
       "      <td>146</td>\n",
       "      <td>475</td>\n",
       "      <td>1119</td>\n",
       "      <td>78</td>\n",
       "      <td>729</td>\n",
       "      <td>664</td>\n",
       "      <td>4.14</td>\n",
       "      <td>5</td>\n",
       "      <td>15</td>\n",
       "      <td>28</td>\n",
       "      <td>126</td>\n",
       "      <td>68</td>\n",
       "    </tr>\n",
       "    <tr>\n",
       "      <th>15</th>\n",
       "      <td>647</td>\n",
       "      <td>5484</td>\n",
       "      <td>1386</td>\n",
       "      <td>288</td>\n",
       "      <td>39</td>\n",
       "      <td>137</td>\n",
       "      <td>506</td>\n",
       "      <td>1267</td>\n",
       "      <td>69</td>\n",
       "      <td>525</td>\n",
       "      <td>478</td>\n",
       "      <td>2.94</td>\n",
       "      <td>1</td>\n",
       "      <td>15</td>\n",
       "      <td>62</td>\n",
       "      <td>96</td>\n",
       "      <td>100</td>\n",
       "    </tr>\n",
       "    <tr>\n",
       "      <th>16</th>\n",
       "      <td>697</td>\n",
       "      <td>5631</td>\n",
       "      <td>1462</td>\n",
       "      <td>292</td>\n",
       "      <td>27</td>\n",
       "      <td>140</td>\n",
       "      <td>461</td>\n",
       "      <td>1322</td>\n",
       "      <td>98</td>\n",
       "      <td>596</td>\n",
       "      <td>532</td>\n",
       "      <td>3.21</td>\n",
       "      <td>0</td>\n",
       "      <td>13</td>\n",
       "      <td>54</td>\n",
       "      <td>122</td>\n",
       "      <td>98</td>\n",
       "    </tr>\n",
       "    <tr>\n",
       "      <th>17</th>\n",
       "      <td>689</td>\n",
       "      <td>5491</td>\n",
       "      <td>1341</td>\n",
       "      <td>272</td>\n",
       "      <td>30</td>\n",
       "      <td>171</td>\n",
       "      <td>567</td>\n",
       "      <td>1518</td>\n",
       "      <td>95</td>\n",
       "      <td>608</td>\n",
       "      <td>546</td>\n",
       "      <td>3.36</td>\n",
       "      <td>6</td>\n",
       "      <td>21</td>\n",
       "      <td>48</td>\n",
       "      <td>111</td>\n",
       "      <td>97</td>\n",
       "    </tr>\n",
       "    <tr>\n",
       "      <th>18</th>\n",
       "      <td>655</td>\n",
       "      <td>5480</td>\n",
       "      <td>1378</td>\n",
       "      <td>274</td>\n",
       "      <td>34</td>\n",
       "      <td>145</td>\n",
       "      <td>412</td>\n",
       "      <td>1299</td>\n",
       "      <td>84</td>\n",
       "      <td>737</td>\n",
       "      <td>682</td>\n",
       "      <td>4.28</td>\n",
       "      <td>1</td>\n",
       "      <td>7</td>\n",
       "      <td>40</td>\n",
       "      <td>116</td>\n",
       "      <td>68</td>\n",
       "    </tr>\n",
       "    <tr>\n",
       "      <th>19</th>\n",
       "      <td>640</td>\n",
       "      <td>5571</td>\n",
       "      <td>1382</td>\n",
       "      <td>257</td>\n",
       "      <td>27</td>\n",
       "      <td>167</td>\n",
       "      <td>496</td>\n",
       "      <td>1255</td>\n",
       "      <td>134</td>\n",
       "      <td>754</td>\n",
       "      <td>700</td>\n",
       "      <td>4.33</td>\n",
       "      <td>2</td>\n",
       "      <td>8</td>\n",
       "      <td>35</td>\n",
       "      <td>90</td>\n",
       "      <td>64</td>\n",
       "    </tr>\n",
       "    <tr>\n",
       "      <th>20</th>\n",
       "      <td>683</td>\n",
       "      <td>5527</td>\n",
       "      <td>1351</td>\n",
       "      <td>295</td>\n",
       "      <td>17</td>\n",
       "      <td>177</td>\n",
       "      <td>488</td>\n",
       "      <td>1290</td>\n",
       "      <td>51</td>\n",
       "      <td>613</td>\n",
       "      <td>557</td>\n",
       "      <td>3.43</td>\n",
       "      <td>1</td>\n",
       "      <td>14</td>\n",
       "      <td>50</td>\n",
       "      <td>88</td>\n",
       "      <td>90</td>\n",
       "    </tr>\n",
       "    <tr>\n",
       "      <th>21</th>\n",
       "      <td>703</td>\n",
       "      <td>5428</td>\n",
       "      <td>1363</td>\n",
       "      <td>265</td>\n",
       "      <td>13</td>\n",
       "      <td>177</td>\n",
       "      <td>539</td>\n",
       "      <td>1344</td>\n",
       "      <td>57</td>\n",
       "      <td>635</td>\n",
       "      <td>577</td>\n",
       "      <td>3.62</td>\n",
       "      <td>4</td>\n",
       "      <td>13</td>\n",
       "      <td>41</td>\n",
       "      <td>90</td>\n",
       "      <td>83</td>\n",
       "    </tr>\n",
       "    <tr>\n",
       "      <th>22</th>\n",
       "      <td>613</td>\n",
       "      <td>5463</td>\n",
       "      <td>1420</td>\n",
       "      <td>236</td>\n",
       "      <td>40</td>\n",
       "      <td>120</td>\n",
       "      <td>375</td>\n",
       "      <td>1150</td>\n",
       "      <td>112</td>\n",
       "      <td>678</td>\n",
       "      <td>638</td>\n",
       "      <td>4.02</td>\n",
       "      <td>0</td>\n",
       "      <td>12</td>\n",
       "      <td>35</td>\n",
       "      <td>77</td>\n",
       "      <td>71</td>\n",
       "    </tr>\n",
       "    <tr>\n",
       "      <th>23</th>\n",
       "      <td>573</td>\n",
       "      <td>5420</td>\n",
       "      <td>1361</td>\n",
       "      <td>251</td>\n",
       "      <td>18</td>\n",
       "      <td>100</td>\n",
       "      <td>471</td>\n",
       "      <td>1107</td>\n",
       "      <td>69</td>\n",
       "      <td>760</td>\n",
       "      <td>698</td>\n",
       "      <td>4.41</td>\n",
       "      <td>3</td>\n",
       "      <td>10</td>\n",
       "      <td>44</td>\n",
       "      <td>90</td>\n",
       "      <td>67</td>\n",
       "    </tr>\n",
       "    <tr>\n",
       "      <th>24</th>\n",
       "      <td>626</td>\n",
       "      <td>5529</td>\n",
       "      <td>1374</td>\n",
       "      <td>272</td>\n",
       "      <td>37</td>\n",
       "      <td>130</td>\n",
       "      <td>387</td>\n",
       "      <td>1274</td>\n",
       "      <td>88</td>\n",
       "      <td>809</td>\n",
       "      <td>749</td>\n",
       "      <td>4.69</td>\n",
       "      <td>1</td>\n",
       "      <td>7</td>\n",
       "      <td>35</td>\n",
       "      <td>117</td>\n",
       "      <td>63</td>\n",
       "    </tr>\n",
       "    <tr>\n",
       "      <th>25</th>\n",
       "      <td>667</td>\n",
       "      <td>5385</td>\n",
       "      <td>1346</td>\n",
       "      <td>263</td>\n",
       "      <td>26</td>\n",
       "      <td>187</td>\n",
       "      <td>563</td>\n",
       "      <td>1258</td>\n",
       "      <td>59</td>\n",
       "      <td>595</td>\n",
       "      <td>553</td>\n",
       "      <td>3.44</td>\n",
       "      <td>6</td>\n",
       "      <td>21</td>\n",
       "      <td>47</td>\n",
       "      <td>75</td>\n",
       "      <td>92</td>\n",
       "    </tr>\n",
       "    <tr>\n",
       "      <th>26</th>\n",
       "      <td>696</td>\n",
       "      <td>5565</td>\n",
       "      <td>1486</td>\n",
       "      <td>288</td>\n",
       "      <td>39</td>\n",
       "      <td>136</td>\n",
       "      <td>457</td>\n",
       "      <td>1159</td>\n",
       "      <td>93</td>\n",
       "      <td>627</td>\n",
       "      <td>597</td>\n",
       "      <td>3.72</td>\n",
       "      <td>7</td>\n",
       "      <td>18</td>\n",
       "      <td>41</td>\n",
       "      <td>78</td>\n",
       "      <td>84</td>\n",
       "    </tr>\n",
       "    <tr>\n",
       "      <th>27</th>\n",
       "      <td>720</td>\n",
       "      <td>5649</td>\n",
       "      <td>1494</td>\n",
       "      <td>289</td>\n",
       "      <td>48</td>\n",
       "      <td>154</td>\n",
       "      <td>490</td>\n",
       "      <td>1312</td>\n",
       "      <td>132</td>\n",
       "      <td>713</td>\n",
       "      <td>659</td>\n",
       "      <td>4.04</td>\n",
       "      <td>1</td>\n",
       "      <td>12</td>\n",
       "      <td>44</td>\n",
       "      <td>86</td>\n",
       "      <td>79</td>\n",
       "    </tr>\n",
       "    <tr>\n",
       "      <th>28</th>\n",
       "      <td>650</td>\n",
       "      <td>5457</td>\n",
       "      <td>1324</td>\n",
       "      <td>260</td>\n",
       "      <td>36</td>\n",
       "      <td>148</td>\n",
       "      <td>426</td>\n",
       "      <td>1327</td>\n",
       "      <td>82</td>\n",
       "      <td>731</td>\n",
       "      <td>655</td>\n",
       "      <td>4.09</td>\n",
       "      <td>1</td>\n",
       "      <td>6</td>\n",
       "      <td>41</td>\n",
       "      <td>92</td>\n",
       "      <td>74</td>\n",
       "    </tr>\n",
       "    <tr>\n",
       "      <th>29</th>\n",
       "      <td>737</td>\n",
       "      <td>5572</td>\n",
       "      <td>1479</td>\n",
       "      <td>274</td>\n",
       "      <td>49</td>\n",
       "      <td>186</td>\n",
       "      <td>388</td>\n",
       "      <td>1283</td>\n",
       "      <td>97</td>\n",
       "      <td>844</td>\n",
       "      <td>799</td>\n",
       "      <td>5.04</td>\n",
       "      <td>4</td>\n",
       "      <td>4</td>\n",
       "      <td>36</td>\n",
       "      <td>95</td>\n",
       "      <td>68</td>\n",
       "    </tr>\n",
       "  </tbody>\n",
       "</table>\n",
       "</div>"
      ],
      "text/plain": [
       "      R    AB     H   2B  3B   HR   BB    SO   SB   RA   ER   ERA  CG  SHO  \\\n",
       "0   724  5575  1497  300  42  139  383   973  104  641  601  3.73   2    8   \n",
       "1   696  5467  1349  277  44  156  439  1264   70  700  653  4.07   2   12   \n",
       "2   669  5439  1395  303  29  141  533  1157   86  640  584  3.67  11   10   \n",
       "3   622  5533  1381  260  27  136  404  1231   68  701  643  3.98   7    9   \n",
       "4   689  5605  1515  289  49  151  455  1259   83  803  746  4.64   7   12   \n",
       "5   891  5509  1480  308  17  232  570  1151   88  670  609  3.80   7   10   \n",
       "6   764  5567  1397  272  19  212  554  1227   63  698  652  4.03   3    4   \n",
       "7   713  5485  1370  246  20  217  418  1331   44  693  646  4.05   0   10   \n",
       "8   644  5485  1383  278  32  167  436  1310   87  642  604  3.74   1   12   \n",
       "9   748  5640  1495  294  33  161  478  1148   71  753  694  4.31   3   10   \n",
       "10  751  5511  1419  279  32  172  503  1233  101  733  680  4.24   5    9   \n",
       "11  729  5459  1363  278  26  230  486  1392  121  618  572  3.57   5   13   \n",
       "12  661  5417  1331  243  21  176  435  1150   52  675  630  3.94   2   12   \n",
       "13  656  5544  1379  262  22  198  478  1336   69  726  677  4.16   6   12   \n",
       "14  694  5600  1405  277  46  146  475  1119   78  729  664  4.14   5   15   \n",
       "15  647  5484  1386  288  39  137  506  1267   69  525  478  2.94   1   15   \n",
       "16  697  5631  1462  292  27  140  461  1322   98  596  532  3.21   0   13   \n",
       "17  689  5491  1341  272  30  171  567  1518   95  608  546  3.36   6   21   \n",
       "18  655  5480  1378  274  34  145  412  1299   84  737  682  4.28   1    7   \n",
       "19  640  5571  1382  257  27  167  496  1255  134  754  700  4.33   2    8   \n",
       "20  683  5527  1351  295  17  177  488  1290   51  613  557  3.43   1   14   \n",
       "21  703  5428  1363  265  13  177  539  1344   57  635  577  3.62   4   13   \n",
       "22  613  5463  1420  236  40  120  375  1150  112  678  638  4.02   0   12   \n",
       "23  573  5420  1361  251  18  100  471  1107   69  760  698  4.41   3   10   \n",
       "24  626  5529  1374  272  37  130  387  1274   88  809  749  4.69   1    7   \n",
       "25  667  5385  1346  263  26  187  563  1258   59  595  553  3.44   6   21   \n",
       "26  696  5565  1486  288  39  136  457  1159   93  627  597  3.72   7   18   \n",
       "27  720  5649  1494  289  48  154  490  1312  132  713  659  4.04   1   12   \n",
       "28  650  5457  1324  260  36  148  426  1327   82  731  655  4.09   1    6   \n",
       "29  737  5572  1479  274  49  186  388  1283   97  844  799  5.04   4    4   \n",
       "\n",
       "    SV    E    W  \n",
       "0   56   88   95  \n",
       "1   45   86   83  \n",
       "2   38   79   81  \n",
       "3   37  101   76  \n",
       "4   35   86   74  \n",
       "5   34   88   93  \n",
       "6   48   93   87  \n",
       "7   43   77   81  \n",
       "8   60   95   80  \n",
       "9   40   97   78  \n",
       "10  45  119   88  \n",
       "11  39   85   86  \n",
       "12  46   93   85  \n",
       "13  45   94   76  \n",
       "14  28  126   68  \n",
       "15  62   96  100  \n",
       "16  54  122   98  \n",
       "17  48  111   97  \n",
       "18  40  116   68  \n",
       "19  35   90   64  \n",
       "20  50   88   90  \n",
       "21  41   90   83  \n",
       "22  35   77   71  \n",
       "23  44   90   67  \n",
       "24  35  117   63  \n",
       "25  47   75   92  \n",
       "26  41   78   84  \n",
       "27  44   86   79  \n",
       "28  41   92   74  \n",
       "29  36   95   68  "
      ]
     },
     "execution_count": 5,
     "metadata": {},
     "output_type": "execute_result"
    }
   ],
   "source": [
    "df=df[[\"R\",\"AB\",\"H\",\"2B\",\"3B\",\"HR\",\"BB\",\"SO\",\"SB\",\"RA\",\"ER\",\"ERA\",\"CG\",\"SHO\",\"SV\",\"E\",\"W\"]]\n",
    "df"
   ]
  },
  {
   "cell_type": "markdown",
   "metadata": {},
   "source": [
    "# EDA - Understanding the Dataset"
   ]
  },
  {
   "cell_type": "code",
   "execution_count": 6,
   "metadata": {},
   "outputs": [
    {
     "data": {
      "text/plain": [
       "R        int64\n",
       "AB       int64\n",
       "H        int64\n",
       "2B       int64\n",
       "3B       int64\n",
       "HR       int64\n",
       "BB       int64\n",
       "SO       int64\n",
       "SB       int64\n",
       "RA       int64\n",
       "ER       int64\n",
       "ERA    float64\n",
       "CG       int64\n",
       "SHO      int64\n",
       "SV       int64\n",
       "E        int64\n",
       "W        int64\n",
       "dtype: object"
      ]
     },
     "execution_count": 6,
     "metadata": {},
     "output_type": "execute_result"
    }
   ],
   "source": [
    "df.dtypes"
   ]
  },
  {
   "cell_type": "markdown",
   "metadata": {},
   "source": [
    "Looking at the above table, we can observe that apart from ERA (Earned run average), which is float datatype, all the others are of integer datatype"
   ]
  },
  {
   "cell_type": "markdown",
   "metadata": {},
   "source": [
    "Checking for null values in the dataset"
   ]
  },
  {
   "cell_type": "code",
   "execution_count": 7,
   "metadata": {},
   "outputs": [
    {
     "data": {
      "text/plain": [
       "R      0\n",
       "AB     0\n",
       "H      0\n",
       "2B     0\n",
       "3B     0\n",
       "HR     0\n",
       "BB     0\n",
       "SO     0\n",
       "SB     0\n",
       "RA     0\n",
       "ER     0\n",
       "ERA    0\n",
       "CG     0\n",
       "SHO    0\n",
       "SV     0\n",
       "E      0\n",
       "W      0\n",
       "dtype: int64"
      ]
     },
     "execution_count": 7,
     "metadata": {},
     "output_type": "execute_result"
    }
   ],
   "source": [
    "df.isnull().sum()"
   ]
  },
  {
   "cell_type": "markdown",
   "metadata": {},
   "source": [
    "It is clear to note that there are no null values present in any of the columns in the given dataset"
   ]
  },
  {
   "cell_type": "code",
   "execution_count": 8,
   "metadata": {},
   "outputs": [
    {
     "data": {
      "text/html": [
       "<div>\n",
       "<style scoped>\n",
       "    .dataframe tbody tr th:only-of-type {\n",
       "        vertical-align: middle;\n",
       "    }\n",
       "\n",
       "    .dataframe tbody tr th {\n",
       "        vertical-align: top;\n",
       "    }\n",
       "\n",
       "    .dataframe thead th {\n",
       "        text-align: right;\n",
       "    }\n",
       "</style>\n",
       "<table border=\"1\" class=\"dataframe\">\n",
       "  <thead>\n",
       "    <tr style=\"text-align: right;\">\n",
       "      <th></th>\n",
       "      <th>R</th>\n",
       "      <th>AB</th>\n",
       "      <th>H</th>\n",
       "      <th>2B</th>\n",
       "      <th>3B</th>\n",
       "      <th>HR</th>\n",
       "      <th>BB</th>\n",
       "      <th>SO</th>\n",
       "      <th>SB</th>\n",
       "      <th>RA</th>\n",
       "      <th>ER</th>\n",
       "      <th>ERA</th>\n",
       "      <th>CG</th>\n",
       "      <th>SHO</th>\n",
       "      <th>SV</th>\n",
       "      <th>E</th>\n",
       "      <th>W</th>\n",
       "    </tr>\n",
       "  </thead>\n",
       "  <tbody>\n",
       "    <tr>\n",
       "      <th>count</th>\n",
       "      <td>30.000000</td>\n",
       "      <td>30.000000</td>\n",
       "      <td>30.000000</td>\n",
       "      <td>30.000000</td>\n",
       "      <td>30.000000</td>\n",
       "      <td>30.000000</td>\n",
       "      <td>30.000000</td>\n",
       "      <td>30.00000</td>\n",
       "      <td>30.000000</td>\n",
       "      <td>30.000000</td>\n",
       "      <td>30.000000</td>\n",
       "      <td>30.000000</td>\n",
       "      <td>30.000000</td>\n",
       "      <td>30.000000</td>\n",
       "      <td>30.000000</td>\n",
       "      <td>30.000000</td>\n",
       "      <td>30.000000</td>\n",
       "    </tr>\n",
       "    <tr>\n",
       "      <th>mean</th>\n",
       "      <td>688.233333</td>\n",
       "      <td>5516.266667</td>\n",
       "      <td>1403.533333</td>\n",
       "      <td>274.733333</td>\n",
       "      <td>31.300000</td>\n",
       "      <td>163.633333</td>\n",
       "      <td>469.100000</td>\n",
       "      <td>1248.20000</td>\n",
       "      <td>83.500000</td>\n",
       "      <td>688.233333</td>\n",
       "      <td>635.833333</td>\n",
       "      <td>3.956333</td>\n",
       "      <td>3.466667</td>\n",
       "      <td>11.300000</td>\n",
       "      <td>43.066667</td>\n",
       "      <td>94.333333</td>\n",
       "      <td>80.966667</td>\n",
       "    </tr>\n",
       "    <tr>\n",
       "      <th>std</th>\n",
       "      <td>58.761754</td>\n",
       "      <td>70.467372</td>\n",
       "      <td>57.140923</td>\n",
       "      <td>18.095405</td>\n",
       "      <td>10.452355</td>\n",
       "      <td>31.823309</td>\n",
       "      <td>57.053725</td>\n",
       "      <td>103.75947</td>\n",
       "      <td>22.815225</td>\n",
       "      <td>72.108005</td>\n",
       "      <td>70.140786</td>\n",
       "      <td>0.454089</td>\n",
       "      <td>2.763473</td>\n",
       "      <td>4.120177</td>\n",
       "      <td>7.869335</td>\n",
       "      <td>13.958889</td>\n",
       "      <td>10.453455</td>\n",
       "    </tr>\n",
       "    <tr>\n",
       "      <th>min</th>\n",
       "      <td>573.000000</td>\n",
       "      <td>5385.000000</td>\n",
       "      <td>1324.000000</td>\n",
       "      <td>236.000000</td>\n",
       "      <td>13.000000</td>\n",
       "      <td>100.000000</td>\n",
       "      <td>375.000000</td>\n",
       "      <td>973.00000</td>\n",
       "      <td>44.000000</td>\n",
       "      <td>525.000000</td>\n",
       "      <td>478.000000</td>\n",
       "      <td>2.940000</td>\n",
       "      <td>0.000000</td>\n",
       "      <td>4.000000</td>\n",
       "      <td>28.000000</td>\n",
       "      <td>75.000000</td>\n",
       "      <td>63.000000</td>\n",
       "    </tr>\n",
       "    <tr>\n",
       "      <th>25%</th>\n",
       "      <td>651.250000</td>\n",
       "      <td>5464.000000</td>\n",
       "      <td>1363.000000</td>\n",
       "      <td>262.250000</td>\n",
       "      <td>23.000000</td>\n",
       "      <td>140.250000</td>\n",
       "      <td>428.250000</td>\n",
       "      <td>1157.50000</td>\n",
       "      <td>69.000000</td>\n",
       "      <td>636.250000</td>\n",
       "      <td>587.250000</td>\n",
       "      <td>3.682500</td>\n",
       "      <td>1.000000</td>\n",
       "      <td>9.000000</td>\n",
       "      <td>37.250000</td>\n",
       "      <td>86.000000</td>\n",
       "      <td>74.000000</td>\n",
       "    </tr>\n",
       "    <tr>\n",
       "      <th>50%</th>\n",
       "      <td>689.000000</td>\n",
       "      <td>5510.000000</td>\n",
       "      <td>1382.500000</td>\n",
       "      <td>275.500000</td>\n",
       "      <td>31.000000</td>\n",
       "      <td>158.500000</td>\n",
       "      <td>473.000000</td>\n",
       "      <td>1261.50000</td>\n",
       "      <td>83.500000</td>\n",
       "      <td>695.500000</td>\n",
       "      <td>644.500000</td>\n",
       "      <td>4.025000</td>\n",
       "      <td>3.000000</td>\n",
       "      <td>12.000000</td>\n",
       "      <td>42.000000</td>\n",
       "      <td>91.000000</td>\n",
       "      <td>81.000000</td>\n",
       "    </tr>\n",
       "    <tr>\n",
       "      <th>75%</th>\n",
       "      <td>718.250000</td>\n",
       "      <td>5570.000000</td>\n",
       "      <td>1451.500000</td>\n",
       "      <td>288.750000</td>\n",
       "      <td>39.000000</td>\n",
       "      <td>177.000000</td>\n",
       "      <td>501.250000</td>\n",
       "      <td>1311.50000</td>\n",
       "      <td>96.500000</td>\n",
       "      <td>732.500000</td>\n",
       "      <td>679.250000</td>\n",
       "      <td>4.220000</td>\n",
       "      <td>5.750000</td>\n",
       "      <td>13.000000</td>\n",
       "      <td>46.750000</td>\n",
       "      <td>96.750000</td>\n",
       "      <td>87.750000</td>\n",
       "    </tr>\n",
       "    <tr>\n",
       "      <th>max</th>\n",
       "      <td>891.000000</td>\n",
       "      <td>5649.000000</td>\n",
       "      <td>1515.000000</td>\n",
       "      <td>308.000000</td>\n",
       "      <td>49.000000</td>\n",
       "      <td>232.000000</td>\n",
       "      <td>570.000000</td>\n",
       "      <td>1518.00000</td>\n",
       "      <td>134.000000</td>\n",
       "      <td>844.000000</td>\n",
       "      <td>799.000000</td>\n",
       "      <td>5.040000</td>\n",
       "      <td>11.000000</td>\n",
       "      <td>21.000000</td>\n",
       "      <td>62.000000</td>\n",
       "      <td>126.000000</td>\n",
       "      <td>100.000000</td>\n",
       "    </tr>\n",
       "  </tbody>\n",
       "</table>\n",
       "</div>"
      ],
      "text/plain": [
       "                R           AB            H          2B         3B  \\\n",
       "count   30.000000    30.000000    30.000000   30.000000  30.000000   \n",
       "mean   688.233333  5516.266667  1403.533333  274.733333  31.300000   \n",
       "std     58.761754    70.467372    57.140923   18.095405  10.452355   \n",
       "min    573.000000  5385.000000  1324.000000  236.000000  13.000000   \n",
       "25%    651.250000  5464.000000  1363.000000  262.250000  23.000000   \n",
       "50%    689.000000  5510.000000  1382.500000  275.500000  31.000000   \n",
       "75%    718.250000  5570.000000  1451.500000  288.750000  39.000000   \n",
       "max    891.000000  5649.000000  1515.000000  308.000000  49.000000   \n",
       "\n",
       "               HR          BB          SO          SB          RA          ER  \\\n",
       "count   30.000000   30.000000    30.00000   30.000000   30.000000   30.000000   \n",
       "mean   163.633333  469.100000  1248.20000   83.500000  688.233333  635.833333   \n",
       "std     31.823309   57.053725   103.75947   22.815225   72.108005   70.140786   \n",
       "min    100.000000  375.000000   973.00000   44.000000  525.000000  478.000000   \n",
       "25%    140.250000  428.250000  1157.50000   69.000000  636.250000  587.250000   \n",
       "50%    158.500000  473.000000  1261.50000   83.500000  695.500000  644.500000   \n",
       "75%    177.000000  501.250000  1311.50000   96.500000  732.500000  679.250000   \n",
       "max    232.000000  570.000000  1518.00000  134.000000  844.000000  799.000000   \n",
       "\n",
       "             ERA         CG        SHO         SV           E           W  \n",
       "count  30.000000  30.000000  30.000000  30.000000   30.000000   30.000000  \n",
       "mean    3.956333   3.466667  11.300000  43.066667   94.333333   80.966667  \n",
       "std     0.454089   2.763473   4.120177   7.869335   13.958889   10.453455  \n",
       "min     2.940000   0.000000   4.000000  28.000000   75.000000   63.000000  \n",
       "25%     3.682500   1.000000   9.000000  37.250000   86.000000   74.000000  \n",
       "50%     4.025000   3.000000  12.000000  42.000000   91.000000   81.000000  \n",
       "75%     4.220000   5.750000  13.000000  46.750000   96.750000   87.750000  \n",
       "max     5.040000  11.000000  21.000000  62.000000  126.000000  100.000000  "
      ]
     },
     "execution_count": 8,
     "metadata": {},
     "output_type": "execute_result"
    }
   ],
   "source": [
    "df.describe()"
   ]
  },
  {
   "cell_type": "markdown",
   "metadata": {},
   "source": [
    "From the above table, we see that the difference between the 75th percentile of some columns and the max values is quite high. This indicates the possibility of there being outliers."
   ]
  },
  {
   "cell_type": "code",
   "execution_count": 9,
   "metadata": {},
   "outputs": [
    {
     "data": {
      "text/plain": [
       "<AxesSubplot:xlabel='R', ylabel='Density'>"
      ]
     },
     "execution_count": 9,
     "metadata": {},
     "output_type": "execute_result"
    },
    {
     "data": {
      "image/png": "[encoded data removed]",
      "text/plain": [
       "<Figure size 432x288 with 1 Axes>"
      ]
     },
     "metadata": {
      "needs_background": "light"
     },
     "output_type": "display_data"
    }
   ],
   "source": [
    "sb.distplot(df['R'], bins=10)"
   ]
  },
  {
   "cell_type": "code",
   "execution_count": 10,
   "metadata": {},
   "outputs": [
    {
     "data": {
      "text/plain": [
       "<AxesSubplot:xlabel='AB', ylabel='Density'>"
      ]
     },
     "execution_count": 10,
     "metadata": {},
     "output_type": "execute_result"
    },
    {
     "data": {
      "image/png": "[encoded data removed]",
      "text/plain": [
       "<Figure size 432x288 with 1 Axes>"
      ]
     },
     "metadata": {
      "needs_background": "light"
     },
     "output_type": "display_data"
    }
   ],
   "source": [
    "sb.distplot(df['AB'], bins=10)"
   ]
  },
  {
   "cell_type": "code",
   "execution_count": 11,
   "metadata": {},
   "outputs": [
    {
     "data": {
      "text/plain": [
       "<AxesSubplot:xlabel='H', ylabel='Density'>"
      ]
     },
     "execution_count": 11,
     "metadata": {},
     "output_type": "execute_result"
    },
    {
     "data": {
      "image/png": "[encoded data removed]",
      "text/plain": [
       "<Figure size 432x288 with 1 Axes>"
      ]
     },
     "metadata": {
      "needs_background": "light"
     },
     "output_type": "display_data"
    }
   ],
   "source": [
    "sb.distplot(df['H'], bins=10)"
   ]
  },
  {
   "cell_type": "code",
   "execution_count": 12,
   "metadata": {},
   "outputs": [
    {
     "data": {
      "text/plain": [
       "<AxesSubplot:xlabel='2B', ylabel='Density'>"
      ]
     },
     "execution_count": 12,
     "metadata": {},
     "output_type": "execute_result"
    },
    {
     "data": {
      "image/png": "[encoded data removed]",
      "text/plain": [
       "<Figure size 432x288 with 1 Axes>"
      ]
     },
     "metadata": {
      "needs_background": "light"
     },
     "output_type": "display_data"
    }
   ],
   "source": [
    "sb.distplot(df['2B'], bins=10)"
   ]
  },
  {
   "cell_type": "code",
   "execution_count": 13,
   "metadata": {},
   "outputs": [
    {
     "data": {
      "text/plain": [
       "<AxesSubplot:xlabel='3B', ylabel='Density'>"
      ]
     },
     "execution_count": 13,
     "metadata": {},
     "output_type": "execute_result"
    },
    {
     "data": {
      "image/png": "[encoded data removed]",
      "text/plain": [
       "<Figure size 432x288 with 1 Axes>"
      ]
     },
     "metadata": {
      "needs_background": "light"
     },
     "output_type": "display_data"
    }
   ],
   "source": [
    "sb.distplot(df['3B'], bins=10)"
   ]
  },
  {
   "cell_type": "code",
   "execution_count": 14,
   "metadata": {},
   "outputs": [
    {
     "data": {
      "text/plain": [
       "<AxesSubplot:xlabel='HR', ylabel='Density'>"
      ]
     },
     "execution_count": 14,
     "metadata": {},
     "output_type": "execute_result"
    },
    {
     "data": {
      "image/png": "[encoded data removed]",
      "text/plain": [
       "<Figure size 432x288 with 1 Axes>"
      ]
     },
     "metadata": {
      "needs_background": "light"
     },
     "output_type": "display_data"
    }
   ],
   "source": [
    "sb.distplot(df['HR'], bins=10)"
   ]
  },
  {
   "cell_type": "code",
   "execution_count": 15,
   "metadata": {},
   "outputs": [
    {
     "data": {
      "text/plain": [
       "<AxesSubplot:xlabel='BB', ylabel='Density'>"
      ]
     },
     "execution_count": 15,
     "metadata": {},
     "output_type": "execute_result"
    },
    {
     "data": {
      "image/png": "[encoded data removed]",
      "text/plain": [
       "<Figure size 432x288 with 1 Axes>"
      ]
     },
     "metadata": {
      "needs_background": "light"
     },
     "output_type": "display_data"
    }
   ],
   "source": [
    "sb.distplot(df['BB'], bins=10)"
   ]
  },
  {
   "cell_type": "code",
   "execution_count": 16,
   "metadata": {},
   "outputs": [
    {
     "data": {
      "text/plain": [
       "<AxesSubplot:xlabel='SO', ylabel='Density'>"
      ]
     },
     "execution_count": 16,
     "metadata": {},
     "output_type": "execute_result"
    },
    {
     "data": {
      "image/png": "[encoded data removed]",
      "text/plain": [
       "<Figure size 432x288 with 1 Axes>"
      ]
     },
     "metadata": {
      "needs_background": "light"
     },
     "output_type": "display_data"
    }
   ],
   "source": [
    "sb.distplot(df['SO'], bins=10)"
   ]
  },
  {
   "cell_type": "code",
   "execution_count": 17,
   "metadata": {},
   "outputs": [
    {
     "data": {
      "text/plain": [
       "<AxesSubplot:xlabel='SB', ylabel='Density'>"
      ]
     },
     "execution_count": 17,
     "metadata": {},
     "output_type": "execute_result"
    },
    {
     "data": {
      "image/png": "[encoded data removed]",
      "text/plain": [
       "<Figure size 432x288 with 1 Axes>"
      ]
     },
     "metadata": {
      "needs_background": "light"
     },
     "output_type": "display_data"
    }
   ],
   "source": [
    "sb.distplot(df['SB'], bins=10)"
   ]
  },
  {
   "cell_type": "code",
   "execution_count": 18,
   "metadata": {},
   "outputs": [
    {
     "data": {
      "text/plain": [
       "<AxesSubplot:xlabel='RA', ylabel='Density'>"
      ]
     },
     "execution_count": 18,
     "metadata": {},
     "output_type": "execute_result"
    },
    {
     "data": {
      "image/png": "[encoded data removed]",
      "text/plain": [
       "<Figure size 432x288 with 1 Axes>"
      ]
     },
     "metadata": {
      "needs_background": "light"
     },
     "output_type": "display_data"
    }
   ],
   "source": [
    "sb.distplot(df['RA'], bins=10)"
   ]
  },
  {
   "cell_type": "code",
   "execution_count": 19,
   "metadata": {},
   "outputs": [
    {
     "data": {
      "text/plain": [
       "<AxesSubplot:xlabel='ER', ylabel='Density'>"
      ]
     },
     "execution_count": 19,
     "metadata": {},
     "output_type": "execute_result"
    },
    {
     "data": {
      "image/png": "[encoded data removed]",
      "text/plain": [
       "<Figure size 432x288 with 1 Axes>"
      ]
     },
     "metadata": {
      "needs_background": "light"
     },
     "output_type": "display_data"
    }
   ],
   "source": [
    "sb.distplot(df['ER'], bins=10)"
   ]
  },
  {
   "cell_type": "code",
   "execution_count": 20,
   "metadata": {},
   "outputs": [
    {
     "data": {
      "text/plain": [
       "<AxesSubplot:xlabel='ERA', ylabel='Density'>"
      ]
     },
     "execution_count": 20,
     "metadata": {},
     "output_type": "execute_result"
    },
    {
     "data": {
      "image/png": "[encoded data removed]",
      "text/plain": [
       "<Figure size 432x288 with 1 Axes>"
      ]
     },
     "metadata": {
      "needs_background": "light"
     },
     "output_type": "display_data"
    }
   ],
   "source": [
    "sb.distplot(df['ERA'], bins=10)"
   ]
  },
  {
   "cell_type": "code",
   "execution_count": 21,
   "metadata": {},
   "outputs": [
    {
     "data": {
      "text/plain": [
       "<AxesSubplot:xlabel='CG', ylabel='Density'>"
      ]
     },
     "execution_count": 21,
     "metadata": {},
     "output_type": "execute_result"
    },
    {
     "data": {
      "image/png": "[encoded data removed]",
      "text/plain": [
       "<Figure size 432x288 with 1 Axes>"
      ]
     },
     "metadata": {
      "needs_background": "light"
     },
     "output_type": "display_data"
    }
   ],
   "source": [
    "sb.distplot(df['CG'], bins=10)"
   ]
  },
  {
   "cell_type": "code",
   "execution_count": 22,
   "metadata": {},
   "outputs": [
    {
     "data": {
      "text/plain": [
       "<AxesSubplot:xlabel='SHO', ylabel='Density'>"
      ]
     },
     "execution_count": 22,
     "metadata": {},
     "output_type": "execute_result"
    },
    {
     "data": {
      "image/png": "[encoded data removed]",
      "text/plain": [
       "<Figure size 432x288 with 1 Axes>"
      ]
     },
     "metadata": {
      "needs_background": "light"
     },
     "output_type": "display_data"
    }
   ],
   "source": [
    "sb.distplot(df['SHO'], bins=10)"
   ]
  },
  {
   "cell_type": "code",
   "execution_count": 23,
   "metadata": {},
   "outputs": [
    {
     "data": {
      "text/plain": [
       "<AxesSubplot:xlabel='SV', ylabel='Density'>"
      ]
     },
     "execution_count": 23,
     "metadata": {},
     "output_type": "execute_result"
    },
    {
     "data": {
      "image/png": "[encoded data removed]",
      "text/plain": [
       "<Figure size 432x288 with 1 Axes>"
      ]
     },
     "metadata": {
      "needs_background": "light"
     },
     "output_type": "display_data"
    }
   ],
   "source": [
    "sb.distplot(df['SV'], bins=10)"
   ]
  },
  {
   "cell_type": "code",
   "execution_count": 24,
   "metadata": {},
   "outputs": [
    {
     "data": {
      "text/plain": [
       "<AxesSubplot:xlabel='E', ylabel='Density'>"
      ]
     },
     "execution_count": 24,
     "metadata": {},
     "output_type": "execute_result"
    },
    {
     "data": {
      "image/png": "[encoded data removed]",
      "text/plain": [
       "<Figure size 432x288 with 1 Axes>"
      ]
     },
     "metadata": {
      "needs_background": "light"
     },
     "output_type": "display_data"
    }
   ],
   "source": [
    "sb.distplot(df['E'], bins=10)"
   ]
  },
  {
   "cell_type": "code",
   "execution_count": 25,
   "metadata": {},
   "outputs": [
    {
     "data": {
      "text/plain": [
       "R      1.200786\n",
       "AB     0.183437\n",
       "H      0.670254\n",
       "2B    -0.230650\n",
       "3B     0.129502\n",
       "HR     0.516441\n",
       "BB     0.158498\n",
       "SO    -0.156065\n",
       "SB     0.479893\n",
       "RA     0.045734\n",
       "ER     0.058710\n",
       "ERA    0.053331\n",
       "CG     0.736845\n",
       "SHO    0.565790\n",
       "SV     0.657524\n",
       "E      0.890132\n",
       "W      0.047089\n",
       "dtype: float64"
      ]
     },
     "execution_count": 25,
     "metadata": {},
     "output_type": "execute_result"
    }
   ],
   "source": [
    "df.skew()"
   ]
  },
  {
   "cell_type": "markdown",
   "metadata": {},
   "source": [
    "As seen above, it is easy to notice that many columns in the dataset have skewness in them. Hence, we shall now proceed with reducing the skewness in the dataset."
   ]
  },
  {
   "cell_type": "code",
   "execution_count": 26,
   "metadata": {},
   "outputs": [],
   "source": [
    "from scipy.stats import yeojohnson"
   ]
  },
  {
   "cell_type": "code",
   "execution_count": 27,
   "metadata": {},
   "outputs": [],
   "source": [
    "df[\"R\"]=yeojohnson(df[\"R\"],0)"
   ]
  },
  {
   "cell_type": "code",
   "execution_count": 28,
   "metadata": {},
   "outputs": [],
   "source": [
    "df[\"AB\"]=yeojohnson(df[\"AB\"],0)"
   ]
  },
  {
   "cell_type": "code",
   "execution_count": 29,
   "metadata": {},
   "outputs": [],
   "source": [
    "df[\"H\"]=yeojohnson(df[\"H\"],0)"
   ]
  },
  {
   "cell_type": "code",
   "execution_count": 54,
   "metadata": {},
   "outputs": [],
   "source": [
    "df[\"2B\"]=yeojohnson(df[\"2B\"],0)"
   ]
  },
  {
   "cell_type": "code",
   "execution_count": 31,
   "metadata": {},
   "outputs": [],
   "source": [
    "df[\"3B\"]=yeojohnson(df[\"3B\"],0)"
   ]
  },
  {
   "cell_type": "code",
   "execution_count": 32,
   "metadata": {},
   "outputs": [],
   "source": [
    "df[\"HR\"]=yeojohnson(df[\"HR\"],0)"
   ]
  },
  {
   "cell_type": "code",
   "execution_count": 33,
   "metadata": {},
   "outputs": [],
   "source": [
    "df[\"BB\"]=yeojohnson(df[\"BB\"],0)"
   ]
  },
  {
   "cell_type": "code",
   "execution_count": 34,
   "metadata": {},
   "outputs": [],
   "source": [
    "df[\"SO\"]=yeojohnson(df[\"SO\"],0)"
   ]
  },
  {
   "cell_type": "code",
   "execution_count": 35,
   "metadata": {},
   "outputs": [],
   "source": [
    "df[\"SB\"]=yeojohnson(df[\"SB\"],0)"
   ]
  },
  {
   "cell_type": "code",
   "execution_count": 36,
   "metadata": {},
   "outputs": [],
   "source": [
    "df[\"RA\"]=yeojohnson(df[\"RA\"],0)"
   ]
  },
  {
   "cell_type": "code",
   "execution_count": 37,
   "metadata": {},
   "outputs": [],
   "source": [
    "df[\"ER\"]=yeojohnson(df[\"ER\"],0)"
   ]
  },
  {
   "cell_type": "code",
   "execution_count": 38,
   "metadata": {},
   "outputs": [],
   "source": [
    "df[\"ERA\"]=yeojohnson(df[\"ERA\"],0)"
   ]
  },
  {
   "cell_type": "code",
   "execution_count": 39,
   "metadata": {},
   "outputs": [],
   "source": [
    "df[\"CG\"]=yeojohnson(df[\"CG\"],0)"
   ]
  },
  {
   "cell_type": "code",
   "execution_count": 40,
   "metadata": {},
   "outputs": [],
   "source": [
    "df[\"SHO\"]=yeojohnson(df[\"SHO\"],0)"
   ]
  },
  {
   "cell_type": "code",
   "execution_count": 41,
   "metadata": {},
   "outputs": [],
   "source": [
    "df[\"SV\"]=yeojohnson(df[\"SV\"],0)"
   ]
  },
  {
   "cell_type": "code",
   "execution_count": 42,
   "metadata": {},
   "outputs": [],
   "source": [
    "df[\"E\"]=yeojohnson(df[\"E\"],0)"
   ]
  },
  {
   "cell_type": "markdown",
   "metadata": {},
   "source": [
    "## Checking for outliers"
   ]
  },
  {
   "cell_type": "code",
   "execution_count": 43,
   "metadata": {},
   "outputs": [
    {
     "data": {
      "text/plain": [
       "R         AxesSubplot(0.125,0.657941;0.110714x0.222059)\n",
       "AB     AxesSubplot(0.257857,0.657941;0.110714x0.222059)\n",
       "H      AxesSubplot(0.390714,0.657941;0.110714x0.222059)\n",
       "2B     AxesSubplot(0.523571,0.657941;0.110714x0.222059)\n",
       "3B     AxesSubplot(0.656429,0.657941;0.110714x0.222059)\n",
       "HR     AxesSubplot(0.789286,0.657941;0.110714x0.222059)\n",
       "BB        AxesSubplot(0.125,0.391471;0.110714x0.222059)\n",
       "SO     AxesSubplot(0.257857,0.391471;0.110714x0.222059)\n",
       "SB     AxesSubplot(0.390714,0.391471;0.110714x0.222059)\n",
       "RA     AxesSubplot(0.523571,0.391471;0.110714x0.222059)\n",
       "ER     AxesSubplot(0.656429,0.391471;0.110714x0.222059)\n",
       "ERA    AxesSubplot(0.789286,0.391471;0.110714x0.222059)\n",
       "CG           AxesSubplot(0.125,0.125;0.110714x0.222059)\n",
       "SHO       AxesSubplot(0.257857,0.125;0.110714x0.222059)\n",
       "SV        AxesSubplot(0.390714,0.125;0.110714x0.222059)\n",
       "E         AxesSubplot(0.523571,0.125;0.110714x0.222059)\n",
       "W         AxesSubplot(0.656429,0.125;0.110714x0.222059)\n",
       "dtype: object"
      ]
     },
     "execution_count": 43,
     "metadata": {},
     "output_type": "execute_result"
    },
    {
     "data": {
      "image/png": "[encoded data removed]",
      "text/plain": [
       "<Figure size 720x720 with 18 Axes>"
      ]
     },
     "metadata": {
      "needs_background": "light"
     },
     "output_type": "display_data"
    }
   ],
   "source": [
    "df.plot(kind = \"box\",subplots = True, layout = (3,6), figsize = (10,10))"
   ]
  },
  {
   "cell_type": "markdown",
   "metadata": {},
   "source": [
    "From the above diagram, we see that the outliers are mostly present in columns E (Errors), ERA (Earned Run Average) and R (Runs Scored). Hence, we shall now proceed with removal of the outliers."
   ]
  },
  {
   "cell_type": "markdown",
   "metadata": {},
   "source": [
    "## Removal of Outliers"
   ]
  },
  {
   "cell_type": "code",
   "execution_count": 45,
   "metadata": {},
   "outputs": [],
   "source": [
    "from scipy.stats import zscore"
   ]
  },
  {
   "cell_type": "code",
   "execution_count": 46,
   "metadata": {},
   "outputs": [
    {
     "data": {
      "text/plain": [
       "array([[0.66532946, 0.85033618, 1.64938177, 1.3759871 , 1.00218172,\n",
       "        0.76397806, 1.63058325, 2.95292704, 0.94046306, 0.63185482,\n",
       "        0.4592239 , 0.46954313, 0.27892148, 0.72910756, 1.58127344,\n",
       "        0.42706021, 1.3654086 ],\n",
       "       [0.17956168, 0.70869578, 0.98165584, 0.15783162, 1.13575331,\n",
       "        0.15707687, 0.49319378, 0.1922134 , 0.51555076, 0.2144742 ,\n",
       "        0.29705526, 0.29475616, 0.27892148, 0.32263825, 0.336185  ,\n",
       "        0.59169263, 0.1978383 ],\n",
       "       [0.30770406, 1.11791655, 0.13421019, 1.52796985, 0.05553116,\n",
       "        0.68886098, 1.12451794, 0.87107389, 0.24069226, 0.64686055,\n",
       "        0.72070964, 0.61010436, 1.76277761, 0.15516048, 0.62244106,\n",
       "        1.19928939, 0.00324325],\n",
       "       [1.20472969, 0.24766404, 0.38913576, 0.80917419, 0.25823697,\n",
       "        0.8786901 , 1.18572331, 0.1258095 , 0.6218766 , 0.22819648,\n",
       "        0.15640063, 0.09754825, 1.16561891, 0.42776132, 0.77328196,\n",
       "        0.56049482, 0.48324437],\n",
       "       [0.05507026, 1.27804345, 1.95148012, 0.80545482, 1.44530978,\n",
       "        0.32847259, 0.19476785, 0.14456516, 0.11011216, 1.53413942,\n",
       "        1.51073483, 1.46784853, 1.16561891, 0.32263825, 1.08725291,\n",
       "        0.59169263, 0.67783942],\n",
       "       [3.22198296, 0.09877701, 1.36071482, 1.77797216, 1.55637209,\n",
       "        1.93361297, 1.68425009, 0.93357359, 0.32526752, 0.20656252,\n",
       "        0.33871649, 0.30779129, 1.16561891, 0.15516048, 1.25084255,\n",
       "        0.42706021, 1.17081355],\n",
       "       [1.3276866 , 0.73589225, 0.0980011 , 0.12030308, 1.24681562,\n",
       "        1.45834664, 1.44679076, 0.16493527, 0.90179432, 0.18697084,\n",
       "        0.28308692, 0.20754398, 0.14476936, 2.41026205, 0.70306792,\n",
       "        0.0311412 , 0.5870284 ],\n",
       "       [0.47676732, 0.44673035, 0.5912527 , 1.65406224, 1.10346676,\n",
       "        1.58122142, 0.90178694, 0.81313526, 2.21246041, 0.11786665,\n",
       "        0.19882505, 0.25123642, 1.89692973, 0.15516048, 0.07805147,\n",
       "        1.38267931, 0.00324325],\n",
       "       [0.77671257, 0.44673035, 0.35256013, 0.2128579 , 0.22449673,\n",
       "        0.20153593, 0.55035504, 0.62194358, 0.28322017, 0.61687245,\n",
       "        0.41384699, 0.44628973, 0.87608018, 0.32263825, 1.97512252,\n",
       "        0.12135948, 0.09405427],\n",
       "       [1.06699657, 1.77415183, 1.61559145, 1.06742362, 0.31220679,\n",
       "        0.00894505, 0.21636508, 0.96494562, 0.46350583, 0.91607275,\n",
       "        0.85209719, 0.8040021 , 0.14476936, 0.15516048, 0.33202814,\n",
       "        0.27071559, 0.28864932],\n",
       "       [1.11629752, 0.06984934, 0.29691464, 0.2676873 , 0.22449673,\n",
       "        0.35684518, 0.64143324, 0.10629422, 0.83259605, 0.6572891 ,\n",
       "        0.6663404 , 0.65788931, 0.74192807, 0.42776132, 0.336185  ,\n",
       "        1.73770307, 0.68432592],\n",
       "       [0.75009569, 0.82540178, 0.72071866, 0.2128579 , 0.36508762,\n",
       "        1.8879604 , 0.35475397, 1.35186828, 1.49886159, 0.98304675,\n",
       "        0.90990407, 0.84843576, 0.74192807, 0.53459772, 0.47541933,\n",
       "        0.67543362, 0.48973087],\n",
       "       [0.45585524, 1.44092751, 1.32115147, 1.84133303, 0.96678774,\n",
       "        0.47789423, 0.56949603, 0.94402184, 1.60357058, 0.13509841,\n",
       "        0.02975163, 0.00875357, 0.27892148, 0.32263825, 0.46107257,\n",
       "        0.0311412 , 0.39243335],\n",
       "       [0.54936166, 0.4059477 , 0.42576436, 0.6921904 , 0.83618539,\n",
       "        1.09830842, 0.21636508, 0.85821274, 0.56833393, 0.56504582,\n",
       "        0.62603877, 0.48849396, 0.96895727, 0.32263825, 0.336185  ,\n",
       "        0.04551046, 0.48324437],\n",
       "       [0.14412074, 1.20691809, 0.04631909, 0.15783162, 1.26351557,\n",
       "        0.50560167, 0.16387253, 1.27250208, 0.11825097, 0.60468694,\n",
       "        0.44931254, 0.44573475, 0.74192807, 0.91651672, 2.34287091,\n",
       "        2.14837662, 1.26162457],\n",
       "       [0.71948073, 0.46126142, 0.29779567, 0.75251936, 0.78969862,\n",
       "        0.840176  , 0.69101818, 0.22071203, 0.56833393, 2.55022663,\n",
       "        2.54556038, 2.48164768, 0.87608018, 0.91651672, 2.1624629 ,\n",
       "        0.19642248, 1.85189622],\n",
       "       [0.19724403, 1.64687572, 1.05143325, 0.96317287, 0.25823697,\n",
       "        0.72628633, 0.08555011, 0.73156772, 0.72150866, 1.3314002 ,\n",
       "        1.57046736, 1.75185183, 1.89692973, 0.53459772, 1.37385682,\n",
       "        1.91656437, 1.65730117],\n",
       "       [0.05507026, 0.35959952, 1.13198047, 0.12030308, 0.04080761,\n",
       "        0.32614558, 1.6402375 , 2.39367736, 0.60700266, 1.13982826,\n",
       "        1.33379436, 1.3663814 , 0.96895727, 1.82734024, 0.70306792,\n",
       "        1.23795219, 1.56000365],\n",
       "       [0.56814831, 0.51941221, 0.44409857, 0.00844272, 0.39737418,\n",
       "        0.54174969, 1.02229438, 0.5205697 , 0.15414996, 0.70960538,\n",
       "        0.69310964, 0.7416196 , 0.87608018, 1.065984  , 0.33202814,\n",
       "        1.55431315, 1.26162457],\n",
       "       [0.85343715, 0.79313476, 0.37084133, 0.9863415 , 0.25823697,\n",
       "        0.20153593, 0.52457766, 0.10631023, 1.87564205, 0.9288311 ,\n",
       "        0.93056447, 0.84539493, 0.27892148, 0.72910756, 1.08725291,\n",
       "        0.2660866 , 1.65081467],\n",
       "       [0.05264604, 0.16119484, 0.94421388, 1.11928425, 1.55637209,\n",
       "        0.50772904, 0.38899597, 0.43698735, 1.6744518 , 1.06111832,\n",
       "        1.15204836, 1.19101168, 0.87608018, 0.73192726, 0.93538083,\n",
       "        0.42706021, 0.87892097],\n",
       "       [0.30280904, 1.27925842, 0.72071866, 0.51837226, 2.29475122,\n",
       "        0.50772904, 1.21787129, 0.92998725, 1.26810472, 0.72224208,\n",
       "        0.83059598, 0.72862521, 0.47340951, 0.53459772, 0.1920925 ,\n",
       "        0.2660866 , 0.1978383 ],\n",
       "       [1.38420083, 0.76702742, 0.31471967, 2.28740864, 0.86224722,\n",
       "        1.53636082, 1.80648528, 0.94402184, 1.21369777, 0.09247323,\n",
       "        0.08525215, 0.18563257, 1.89692973, 0.32263825, 1.08725291,\n",
       "        1.38267931, 0.969732  ],\n",
       "       [2.21504941, 1.39680341, 0.75783098, 1.34694171, 1.39751886,\n",
       "        2.49312888, 0.09336546, 1.40210297, 0.56833393, 1.00502811,\n",
       "        0.90448358, 1.00942747, 0.14476936, 0.15516048, 0.20855243,\n",
       "        0.2660866 , 1.3589221 ],\n",
       "       [1.12579542, 0.19002833, 0.51756862, 0.12030308, 0.63899539,\n",
       "        1.11584909, 1.54400177, 0.28694748, 0.32526752, 1.6057098 ,\n",
       "        1.54732127, 1.56502904, 0.87608018, 1.065984  , 1.08725291,\n",
       "        1.61596046, 1.74811219],\n",
       "       [0.34457535, 1.91311067, 1.03792293, 0.63403169, 0.36508762,\n",
       "        0.79718172, 1.58119105, 0.13501282, 1.14195192, 1.34753796,\n",
       "        1.2177199 , 1.16618533, 0.96895727, 1.82734024, 0.58333073,\n",
       "        1.57083312, 1.07351602],\n",
       "       [0.17956168, 0.70725557, 1.4629739 , 0.75251936, 0.78969862,\n",
       "        0.8786901 , 0.15820307, 0.85031259, 0.52865974, 0.84409398,\n",
       "        0.52007949, 0.49284574, 1.16561891, 1.4080332 , 0.1920925 ,\n",
       "        1.29040399, 0.29513583],\n",
       "       [0.5970945 , 1.90122505, 1.59867936, 0.80545482, 1.38595283,\n",
       "        0.22497095, 0.42309822, 0.64028378, 1.82010145, 0.39135584,\n",
       "        0.38041935, 0.22941187, 0.87608018, 0.32263825, 0.20855243,\n",
       "        0.59169263, 0.1913518 ],\n",
       "       [0.66251325, 0.854605  , 1.4544181 , 0.80917419, 0.56064224,\n",
       "        0.43403753, 0.74376733, 0.77695127, 0.06554694, 0.63102395,\n",
       "        0.32492796, 0.33810457, 0.87608018, 1.44790301, 0.1920925 ,\n",
       "        0.10861268, 0.67783942],\n",
       "       [0.88452141, 0.80743896, 1.34363137, 0.00844272, 1.44530978,\n",
       "        0.7689381 , 1.52249587, 0.37157503, 0.68373015, 2.01291978,\n",
       "        2.13644854, 2.22228607, 0.47340951, 2.41026205, 0.92814575,\n",
       "        0.12135948, 1.26162457]])"
      ]
     },
     "execution_count": 46,
     "metadata": {},
     "output_type": "execute_result"
    }
   ],
   "source": [
    "z=np.abs(zscore(df))\n",
    "z"
   ]
  },
  {
   "cell_type": "code",
   "execution_count": 47,
   "metadata": {},
   "outputs": [
    {
     "name": "stdout",
     "output_type": "stream",
     "text": [
      "(array([5], dtype=int64), array([0], dtype=int64))\n"
     ]
    }
   ],
   "source": [
    "threshold=3\n",
    "print(np.where(z>3))"
   ]
  },
  {
   "cell_type": "code",
   "execution_count": 59,
   "metadata": {},
   "outputs": [
    {
     "data": {
      "text/html": [
       "<div>\n",
       "<style scoped>\n",
       "    .dataframe tbody tr th:only-of-type {\n",
       "        vertical-align: middle;\n",
       "    }\n",
       "\n",
       "    .dataframe tbody tr th {\n",
       "        vertical-align: top;\n",
       "    }\n",
       "\n",
       "    .dataframe thead th {\n",
       "        text-align: right;\n",
       "    }\n",
       "</style>\n",
       "<table border=\"1\" class=\"dataframe\">\n",
       "  <thead>\n",
       "    <tr style=\"text-align: right;\">\n",
       "      <th></th>\n",
       "      <th>R</th>\n",
       "      <th>AB</th>\n",
       "      <th>H</th>\n",
       "      <th>2B</th>\n",
       "      <th>3B</th>\n",
       "      <th>HR</th>\n",
       "      <th>BB</th>\n",
       "      <th>SO</th>\n",
       "      <th>SB</th>\n",
       "      <th>RA</th>\n",
       "      <th>ER</th>\n",
       "      <th>ERA</th>\n",
       "      <th>CG</th>\n",
       "      <th>SHO</th>\n",
       "      <th>SV</th>\n",
       "      <th>E</th>\n",
       "      <th>W</th>\n",
       "    </tr>\n",
       "  </thead>\n",
       "  <tbody>\n",
       "    <tr>\n",
       "      <th>R</th>\n",
       "      <td>1.000000</td>\n",
       "      <td>0.338460</td>\n",
       "      <td>0.481814</td>\n",
       "      <td>0.561468</td>\n",
       "      <td>-0.091676</td>\n",
       "      <td>0.681924</td>\n",
       "      <td>0.384527</td>\n",
       "      <td>-0.036927</td>\n",
       "      <td>0.077510</td>\n",
       "      <td>-0.042980</td>\n",
       "      <td>-0.043207</td>\n",
       "      <td>-0.053642</td>\n",
       "      <td>0.257477</td>\n",
       "      <td>-0.122232</td>\n",
       "      <td>-0.075357</td>\n",
       "      <td>-0.015624</td>\n",
       "      <td>0.442808</td>\n",
       "    </tr>\n",
       "    <tr>\n",
       "      <th>AB</th>\n",
       "      <td>0.338460</td>\n",
       "      <td>1.000000</td>\n",
       "      <td>0.739235</td>\n",
       "      <td>0.458767</td>\n",
       "      <td>0.413361</td>\n",
       "      <td>-0.030873</td>\n",
       "      <td>-0.123309</td>\n",
       "      <td>-0.105664</td>\n",
       "      <td>0.376671</td>\n",
       "      <td>0.309148</td>\n",
       "      <td>0.299586</td>\n",
       "      <td>0.246473</td>\n",
       "      <td>-0.059243</td>\n",
       "      <td>-0.191168</td>\n",
       "      <td>-0.133882</td>\n",
       "      <td>0.323546</td>\n",
       "      <td>-0.088333</td>\n",
       "    </tr>\n",
       "    <tr>\n",
       "      <th>H</th>\n",
       "      <td>0.481814</td>\n",
       "      <td>0.739235</td>\n",
       "      <td>1.000000</td>\n",
       "      <td>0.554975</td>\n",
       "      <td>0.431208</td>\n",
       "      <td>-0.085995</td>\n",
       "      <td>-0.119461</td>\n",
       "      <td>-0.401377</td>\n",
       "      <td>0.443403</td>\n",
       "      <td>0.213476</td>\n",
       "      <td>0.239949</td>\n",
       "      <td>0.220183</td>\n",
       "      <td>0.113814</td>\n",
       "      <td>-0.125939</td>\n",
       "      <td>-0.152503</td>\n",
       "      <td>-0.032360</td>\n",
       "      <td>0.035307</td>\n",
       "    </tr>\n",
       "    <tr>\n",
       "      <th>2B</th>\n",
       "      <td>0.561468</td>\n",
       "      <td>0.458767</td>\n",
       "      <td>0.554975</td>\n",
       "      <td>1.000000</td>\n",
       "      <td>0.211820</td>\n",
       "      <td>0.085276</td>\n",
       "      <td>0.312713</td>\n",
       "      <td>-0.135614</td>\n",
       "      <td>0.252004</td>\n",
       "      <td>-0.222919</td>\n",
       "      <td>-0.242553</td>\n",
       "      <td>-0.260428</td>\n",
       "      <td>0.291394</td>\n",
       "      <td>0.070292</td>\n",
       "      <td>0.148385</td>\n",
       "      <td>0.129692</td>\n",
       "      <td>0.421155</td>\n",
       "    </tr>\n",
       "    <tr>\n",
       "      <th>3B</th>\n",
       "      <td>-0.091676</td>\n",
       "      <td>0.413361</td>\n",
       "      <td>0.431208</td>\n",
       "      <td>0.211820</td>\n",
       "      <td>1.000000</td>\n",
       "      <td>-0.399136</td>\n",
       "      <td>-0.461402</td>\n",
       "      <td>-0.128846</td>\n",
       "      <td>0.535689</td>\n",
       "      <td>0.254870</td>\n",
       "      <td>0.281578</td>\n",
       "      <td>0.274542</td>\n",
       "      <td>-0.069482</td>\n",
       "      <td>-0.052745</td>\n",
       "      <td>-0.147264</td>\n",
       "      <td>0.146147</td>\n",
       "      <td>-0.233531</td>\n",
       "    </tr>\n",
       "    <tr>\n",
       "      <th>HR</th>\n",
       "      <td>0.681924</td>\n",
       "      <td>-0.030873</td>\n",
       "      <td>-0.085995</td>\n",
       "      <td>0.085276</td>\n",
       "      <td>-0.399136</td>\n",
       "      <td>1.000000</td>\n",
       "      <td>0.416042</td>\n",
       "      <td>0.389241</td>\n",
       "      <td>-0.192479</td>\n",
       "      <td>-0.096807</td>\n",
       "      <td>-0.081027</td>\n",
       "      <td>-0.089783</td>\n",
       "      <td>0.200379</td>\n",
       "      <td>-0.056596</td>\n",
       "      <td>0.013309</td>\n",
       "      <td>-0.168360</td>\n",
       "      <td>0.319220</td>\n",
       "    </tr>\n",
       "    <tr>\n",
       "      <th>BB</th>\n",
       "      <td>0.384527</td>\n",
       "      <td>-0.123309</td>\n",
       "      <td>-0.119461</td>\n",
       "      <td>0.312713</td>\n",
       "      <td>-0.461402</td>\n",
       "      <td>0.416042</td>\n",
       "      <td>1.000000</td>\n",
       "      <td>0.238051</td>\n",
       "      <td>-0.108627</td>\n",
       "      <td>-0.409317</td>\n",
       "      <td>-0.447102</td>\n",
       "      <td>-0.454353</td>\n",
       "      <td>0.480785</td>\n",
       "      <td>0.375253</td>\n",
       "      <td>0.117572</td>\n",
       "      <td>-0.068444</td>\n",
       "      <td>0.476409</td>\n",
       "    </tr>\n",
       "    <tr>\n",
       "      <th>SO</th>\n",
       "      <td>-0.036927</td>\n",
       "      <td>-0.105664</td>\n",
       "      <td>-0.401377</td>\n",
       "      <td>-0.135614</td>\n",
       "      <td>-0.128846</td>\n",
       "      <td>0.389241</td>\n",
       "      <td>0.238051</td>\n",
       "      <td>1.000000</td>\n",
       "      <td>-0.012430</td>\n",
       "      <td>-0.122366</td>\n",
       "      <td>-0.159085</td>\n",
       "      <td>-0.175374</td>\n",
       "      <td>-0.109583</td>\n",
       "      <td>0.159535</td>\n",
       "      <td>0.136939</td>\n",
       "      <td>0.157704</td>\n",
       "      <td>0.086491</td>\n",
       "    </tr>\n",
       "    <tr>\n",
       "      <th>SB</th>\n",
       "      <td>0.077510</td>\n",
       "      <td>0.376671</td>\n",
       "      <td>0.443403</td>\n",
       "      <td>0.252004</td>\n",
       "      <td>0.535689</td>\n",
       "      <td>-0.192479</td>\n",
       "      <td>-0.108627</td>\n",
       "      <td>-0.012430</td>\n",
       "      <td>1.000000</td>\n",
       "      <td>0.145698</td>\n",
       "      <td>0.151474</td>\n",
       "      <td>0.135878</td>\n",
       "      <td>0.027194</td>\n",
       "      <td>-0.104948</td>\n",
       "      <td>-0.203746</td>\n",
       "      <td>0.139586</td>\n",
       "      <td>-0.158770</td>\n",
       "    </tr>\n",
       "    <tr>\n",
       "      <th>RA</th>\n",
       "      <td>-0.042980</td>\n",
       "      <td>0.309148</td>\n",
       "      <td>0.213476</td>\n",
       "      <td>-0.222919</td>\n",
       "      <td>0.254870</td>\n",
       "      <td>-0.096807</td>\n",
       "      <td>-0.409317</td>\n",
       "      <td>-0.122366</td>\n",
       "      <td>0.145698</td>\n",
       "      <td>1.000000</td>\n",
       "      <td>0.990636</td>\n",
       "      <td>0.985925</td>\n",
       "      <td>0.070079</td>\n",
       "      <td>-0.626000</td>\n",
       "      <td>-0.610172</td>\n",
       "      <td>0.200314</td>\n",
       "      <td>-0.815458</td>\n",
       "    </tr>\n",
       "    <tr>\n",
       "      <th>ER</th>\n",
       "      <td>-0.043207</td>\n",
       "      <td>0.299586</td>\n",
       "      <td>0.239949</td>\n",
       "      <td>-0.242553</td>\n",
       "      <td>0.281578</td>\n",
       "      <td>-0.081027</td>\n",
       "      <td>-0.447102</td>\n",
       "      <td>-0.159085</td>\n",
       "      <td>0.151474</td>\n",
       "      <td>0.990636</td>\n",
       "      <td>1.000000</td>\n",
       "      <td>0.997177</td>\n",
       "      <td>0.070920</td>\n",
       "      <td>-0.622065</td>\n",
       "      <td>-0.584180</td>\n",
       "      <td>0.133112</td>\n",
       "      <td>-0.814288</td>\n",
       "    </tr>\n",
       "    <tr>\n",
       "      <th>ERA</th>\n",
       "      <td>-0.053642</td>\n",
       "      <td>0.246473</td>\n",
       "      <td>0.220183</td>\n",
       "      <td>-0.260428</td>\n",
       "      <td>0.274542</td>\n",
       "      <td>-0.089783</td>\n",
       "      <td>-0.454353</td>\n",
       "      <td>-0.175374</td>\n",
       "      <td>0.135878</td>\n",
       "      <td>0.985925</td>\n",
       "      <td>0.997177</td>\n",
       "      <td>1.000000</td>\n",
       "      <td>0.080660</td>\n",
       "      <td>-0.623337</td>\n",
       "      <td>-0.600533</td>\n",
       "      <td>0.108117</td>\n",
       "      <td>-0.824319</td>\n",
       "    </tr>\n",
       "    <tr>\n",
       "      <th>CG</th>\n",
       "      <td>0.257477</td>\n",
       "      <td>-0.059243</td>\n",
       "      <td>0.113814</td>\n",
       "      <td>0.291394</td>\n",
       "      <td>-0.069482</td>\n",
       "      <td>0.200379</td>\n",
       "      <td>0.480785</td>\n",
       "      <td>-0.109583</td>\n",
       "      <td>0.027194</td>\n",
       "      <td>0.070079</td>\n",
       "      <td>0.070920</td>\n",
       "      <td>0.080660</td>\n",
       "      <td>1.000000</td>\n",
       "      <td>0.147245</td>\n",
       "      <td>-0.331027</td>\n",
       "      <td>-0.073736</td>\n",
       "      <td>0.047176</td>\n",
       "    </tr>\n",
       "    <tr>\n",
       "      <th>SHO</th>\n",
       "      <td>-0.122232</td>\n",
       "      <td>-0.191168</td>\n",
       "      <td>-0.125939</td>\n",
       "      <td>0.070292</td>\n",
       "      <td>-0.052745</td>\n",
       "      <td>-0.056596</td>\n",
       "      <td>0.375253</td>\n",
       "      <td>0.159535</td>\n",
       "      <td>-0.104948</td>\n",
       "      <td>-0.626000</td>\n",
       "      <td>-0.622065</td>\n",
       "      <td>-0.623337</td>\n",
       "      <td>0.147245</td>\n",
       "      <td>1.000000</td>\n",
       "      <td>0.193460</td>\n",
       "      <td>-0.149790</td>\n",
       "      <td>0.436247</td>\n",
       "    </tr>\n",
       "    <tr>\n",
       "      <th>SV</th>\n",
       "      <td>-0.075357</td>\n",
       "      <td>-0.133882</td>\n",
       "      <td>-0.152503</td>\n",
       "      <td>0.148385</td>\n",
       "      <td>-0.147264</td>\n",
       "      <td>0.013309</td>\n",
       "      <td>0.117572</td>\n",
       "      <td>0.136939</td>\n",
       "      <td>-0.203746</td>\n",
       "      <td>-0.610172</td>\n",
       "      <td>-0.584180</td>\n",
       "      <td>-0.600533</td>\n",
       "      <td>-0.331027</td>\n",
       "      <td>0.193460</td>\n",
       "      <td>1.000000</td>\n",
       "      <td>-0.044348</td>\n",
       "      <td>0.668097</td>\n",
       "    </tr>\n",
       "    <tr>\n",
       "      <th>E</th>\n",
       "      <td>-0.015624</td>\n",
       "      <td>0.323546</td>\n",
       "      <td>-0.032360</td>\n",
       "      <td>0.129692</td>\n",
       "      <td>0.146147</td>\n",
       "      <td>-0.168360</td>\n",
       "      <td>-0.068444</td>\n",
       "      <td>0.157704</td>\n",
       "      <td>0.139586</td>\n",
       "      <td>0.200314</td>\n",
       "      <td>0.133112</td>\n",
       "      <td>0.108117</td>\n",
       "      <td>-0.073736</td>\n",
       "      <td>-0.149790</td>\n",
       "      <td>-0.044348</td>\n",
       "      <td>1.000000</td>\n",
       "      <td>-0.090225</td>\n",
       "    </tr>\n",
       "    <tr>\n",
       "      <th>W</th>\n",
       "      <td>0.442808</td>\n",
       "      <td>-0.088333</td>\n",
       "      <td>0.035307</td>\n",
       "      <td>0.421155</td>\n",
       "      <td>-0.233531</td>\n",
       "      <td>0.319220</td>\n",
       "      <td>0.476409</td>\n",
       "      <td>0.086491</td>\n",
       "      <td>-0.158770</td>\n",
       "      <td>-0.815458</td>\n",
       "      <td>-0.814288</td>\n",
       "      <td>-0.824319</td>\n",
       "      <td>0.047176</td>\n",
       "      <td>0.436247</td>\n",
       "      <td>0.668097</td>\n",
       "      <td>-0.090225</td>\n",
       "      <td>1.000000</td>\n",
       "    </tr>\n",
       "  </tbody>\n",
       "</table>\n",
       "</div>"
      ],
      "text/plain": [
       "            R        AB         H        2B        3B        HR        BB  \\\n",
       "R    1.000000  0.338460  0.481814  0.561468 -0.091676  0.681924  0.384527   \n",
       "AB   0.338460  1.000000  0.739235  0.458767  0.413361 -0.030873 -0.123309   \n",
       "H    0.481814  0.739235  1.000000  0.554975  0.431208 -0.085995 -0.119461   \n",
       "2B   0.561468  0.458767  0.554975  1.000000  0.211820  0.085276  0.312713   \n",
       "3B  -0.091676  0.413361  0.431208  0.211820  1.000000 -0.399136 -0.461402   \n",
       "HR   0.681924 -0.030873 -0.085995  0.085276 -0.399136  1.000000  0.416042   \n",
       "BB   0.384527 -0.123309 -0.119461  0.312713 -0.461402  0.416042  1.000000   \n",
       "SO  -0.036927 -0.105664 -0.401377 -0.135614 -0.128846  0.389241  0.238051   \n",
       "SB   0.077510  0.376671  0.443403  0.252004  0.535689 -0.192479 -0.108627   \n",
       "RA  -0.042980  0.309148  0.213476 -0.222919  0.254870 -0.096807 -0.409317   \n",
       "ER  -0.043207  0.299586  0.239949 -0.242553  0.281578 -0.081027 -0.447102   \n",
       "ERA -0.053642  0.246473  0.220183 -0.260428  0.274542 -0.089783 -0.454353   \n",
       "CG   0.257477 -0.059243  0.113814  0.291394 -0.069482  0.200379  0.480785   \n",
       "SHO -0.122232 -0.191168 -0.125939  0.070292 -0.052745 -0.056596  0.375253   \n",
       "SV  -0.075357 -0.133882 -0.152503  0.148385 -0.147264  0.013309  0.117572   \n",
       "E   -0.015624  0.323546 -0.032360  0.129692  0.146147 -0.168360 -0.068444   \n",
       "W    0.442808 -0.088333  0.035307  0.421155 -0.233531  0.319220  0.476409   \n",
       "\n",
       "           SO        SB        RA        ER       ERA        CG       SHO  \\\n",
       "R   -0.036927  0.077510 -0.042980 -0.043207 -0.053642  0.257477 -0.122232   \n",
       "AB  -0.105664  0.376671  0.309148  0.299586  0.246473 -0.059243 -0.191168   \n",
       "H   -0.401377  0.443403  0.213476  0.239949  0.220183  0.113814 -0.125939   \n",
       "2B  -0.135614  0.252004 -0.222919 -0.242553 -0.260428  0.291394  0.070292   \n",
       "3B  -0.128846  0.535689  0.254870  0.281578  0.274542 -0.069482 -0.052745   \n",
       "HR   0.389241 -0.192479 -0.096807 -0.081027 -0.089783  0.200379 -0.056596   \n",
       "BB   0.238051 -0.108627 -0.409317 -0.447102 -0.454353  0.480785  0.375253   \n",
       "SO   1.000000 -0.012430 -0.122366 -0.159085 -0.175374 -0.109583  0.159535   \n",
       "SB  -0.012430  1.000000  0.145698  0.151474  0.135878  0.027194 -0.104948   \n",
       "RA  -0.122366  0.145698  1.000000  0.990636  0.985925  0.070079 -0.626000   \n",
       "ER  -0.159085  0.151474  0.990636  1.000000  0.997177  0.070920 -0.622065   \n",
       "ERA -0.175374  0.135878  0.985925  0.997177  1.000000  0.080660 -0.623337   \n",
       "CG  -0.109583  0.027194  0.070079  0.070920  0.080660  1.000000  0.147245   \n",
       "SHO  0.159535 -0.104948 -0.626000 -0.622065 -0.623337  0.147245  1.000000   \n",
       "SV   0.136939 -0.203746 -0.610172 -0.584180 -0.600533 -0.331027  0.193460   \n",
       "E    0.157704  0.139586  0.200314  0.133112  0.108117 -0.073736 -0.149790   \n",
       "W    0.086491 -0.158770 -0.815458 -0.814288 -0.824319  0.047176  0.436247   \n",
       "\n",
       "           SV         E         W  \n",
       "R   -0.075357 -0.015624  0.442808  \n",
       "AB  -0.133882  0.323546 -0.088333  \n",
       "H   -0.152503 -0.032360  0.035307  \n",
       "2B   0.148385  0.129692  0.421155  \n",
       "3B  -0.147264  0.146147 -0.233531  \n",
       "HR   0.013309 -0.168360  0.319220  \n",
       "BB   0.117572 -0.068444  0.476409  \n",
       "SO   0.136939  0.157704  0.086491  \n",
       "SB  -0.203746  0.139586 -0.158770  \n",
       "RA  -0.610172  0.200314 -0.815458  \n",
       "ER  -0.584180  0.133112 -0.814288  \n",
       "ERA -0.600533  0.108117 -0.824319  \n",
       "CG  -0.331027 -0.073736  0.047176  \n",
       "SHO  0.193460 -0.149790  0.436247  \n",
       "SV   1.000000 -0.044348  0.668097  \n",
       "E   -0.044348  1.000000 -0.090225  \n",
       "W    0.668097 -0.090225  1.000000  "
      ]
     },
     "execution_count": 59,
     "metadata": {},
     "output_type": "execute_result"
    }
   ],
   "source": [
    "dfcorr = df.corr()\n",
    "dfcorr"
   ]
  },
  {
   "cell_type": "markdown",
   "metadata": {},
   "source": [
    "## Visualizing the correlation table"
   ]
  },
  {
   "cell_type": "code",
   "execution_count": 60,
   "metadata": {},
   "outputs": [
    {
     "data": {
      "text/plain": [
       "<AxesSubplot:>"
      ]
     },
     "execution_count": 60,
     "metadata": {},
     "output_type": "execute_result"
    },
    {
     "data": {
      "image/png": "[encoded data removed]",
      "text/plain": [
       "<Figure size 720x720 with 2 Axes>"
      ]
     },
     "metadata": {
      "needs_background": "light"
     },
     "output_type": "display_data"
    }
   ],
   "source": [
    "plt.figure(figsize = (10,10))\n",
    "sb.heatmap(dfcorr, annot = True)"
   ]
  },
  {
   "cell_type": "markdown",
   "metadata": {},
   "source": [
    "As seen in the above figure, it is clear to notice that not all the columns in this dataset contribute much to the W column (Wins).\n",
    "\n",
    "Columns such as RA (Run average), ER (Earned run) and ERA (Earned run average) are negatively impacting the Win Column, where are columns such as BB (Base on balls), SHO (Shutout), SV (Save), R (Runs scored) and 2B (Double) have a positive correlation with the win column. Other columns are not affecting the Win column by much, hence we can say that they are neutrally affecting the Wins\n",
    "\n",
    "Since columns RA, ER and ERA are heavily impacting the wins negatively, it is better to remove those columns to improve the quality of prediction"
   ]
  },
  {
   "cell_type": "code",
   "execution_count": 69,
   "metadata": {},
   "outputs": [],
   "source": [
    "df.drop('RA',axis=1,inplace=True)"
   ]
  },
  {
   "cell_type": "code",
   "execution_count": 73,
   "metadata": {},
   "outputs": [],
   "source": [
    "df.drop('ER',axis=1,inplace=True)"
   ]
  },
  {
   "cell_type": "code",
   "execution_count": 74,
   "metadata": {},
   "outputs": [],
   "source": [
    "df.drop('ERA',axis=1,inplace=True)"
   ]
  },
  {
   "cell_type": "code",
   "execution_count": 75,
   "metadata": {},
   "outputs": [
    {
     "data": {
      "text/html": [
       "<div>\n",
       "<style scoped>\n",
       "    .dataframe tbody tr th:only-of-type {\n",
       "        vertical-align: middle;\n",
       "    }\n",
       "\n",
       "    .dataframe tbody tr th {\n",
       "        vertical-align: top;\n",
       "    }\n",
       "\n",
       "    .dataframe thead th {\n",
       "        text-align: right;\n",
       "    }\n",
       "</style>\n",
       "<table border=\"1\" class=\"dataframe\">\n",
       "  <thead>\n",
       "    <tr style=\"text-align: right;\">\n",
       "      <th></th>\n",
       "      <th>R</th>\n",
       "      <th>AB</th>\n",
       "      <th>H</th>\n",
       "      <th>2B</th>\n",
       "      <th>3B</th>\n",
       "      <th>HR</th>\n",
       "      <th>BB</th>\n",
       "      <th>SO</th>\n",
       "      <th>SB</th>\n",
       "      <th>CG</th>\n",
       "      <th>SHO</th>\n",
       "      <th>SV</th>\n",
       "      <th>E</th>\n",
       "      <th>W</th>\n",
       "    </tr>\n",
       "  </thead>\n",
       "  <tbody>\n",
       "    <tr>\n",
       "      <th>0</th>\n",
       "      <td>6.586172</td>\n",
       "      <td>8.626227</td>\n",
       "      <td>7.311886</td>\n",
       "      <td>1.430220</td>\n",
       "      <td>3.761200</td>\n",
       "      <td>4.941642</td>\n",
       "      <td>5.950643</td>\n",
       "      <td>6.881411</td>\n",
       "      <td>4.653960</td>\n",
       "      <td>1.098612</td>\n",
       "      <td>2.197225</td>\n",
       "      <td>4.043051</td>\n",
       "      <td>4.488636</td>\n",
       "      <td>95</td>\n",
       "    </tr>\n",
       "    <tr>\n",
       "      <th>1</th>\n",
       "      <td>6.546785</td>\n",
       "      <td>8.606668</td>\n",
       "      <td>7.207860</td>\n",
       "      <td>1.422827</td>\n",
       "      <td>3.806662</td>\n",
       "      <td>5.056246</td>\n",
       "      <td>6.086775</td>\n",
       "      <td>7.142827</td>\n",
       "      <td>4.262680</td>\n",
       "      <td>1.098612</td>\n",
       "      <td>2.564949</td>\n",
       "      <td>3.828641</td>\n",
       "      <td>4.465908</td>\n",
       "      <td>83</td>\n",
       "    </tr>\n",
       "    <tr>\n",
       "      <th>2</th>\n",
       "      <td>6.507278</td>\n",
       "      <td>8.601534</td>\n",
       "      <td>7.241366</td>\n",
       "      <td>1.431135</td>\n",
       "      <td>3.401197</td>\n",
       "      <td>4.955827</td>\n",
       "      <td>6.280396</td>\n",
       "      <td>7.054450</td>\n",
       "      <td>4.465908</td>\n",
       "      <td>2.484907</td>\n",
       "      <td>2.397895</td>\n",
       "      <td>3.663562</td>\n",
       "      <td>4.382027</td>\n",
       "      <td>81</td>\n",
       "    </tr>\n",
       "    <tr>\n",
       "      <th>3</th>\n",
       "      <td>6.434547</td>\n",
       "      <td>8.618666</td>\n",
       "      <td>7.231287</td>\n",
       "      <td>1.416888</td>\n",
       "      <td>3.332205</td>\n",
       "      <td>4.919981</td>\n",
       "      <td>6.003887</td>\n",
       "      <td>7.116394</td>\n",
       "      <td>4.234107</td>\n",
       "      <td>2.079442</td>\n",
       "      <td>2.302585</td>\n",
       "      <td>3.637586</td>\n",
       "      <td>4.624973</td>\n",
       "      <td>76</td>\n",
       "    </tr>\n",
       "    <tr>\n",
       "      <th>4</th>\n",
       "      <td>6.536692</td>\n",
       "      <td>8.631593</td>\n",
       "      <td>7.323831</td>\n",
       "      <td>1.426770</td>\n",
       "      <td>3.912023</td>\n",
       "      <td>5.023881</td>\n",
       "      <td>6.122493</td>\n",
       "      <td>7.138867</td>\n",
       "      <td>4.430817</td>\n",
       "      <td>2.079442</td>\n",
       "      <td>2.564949</td>\n",
       "      <td>3.583519</td>\n",
       "      <td>4.465908</td>\n",
       "      <td>74</td>\n",
       "    </tr>\n",
       "    <tr>\n",
       "      <th>5</th>\n",
       "      <td>6.793466</td>\n",
       "      <td>8.614320</td>\n",
       "      <td>7.300473</td>\n",
       "      <td>1.432638</td>\n",
       "      <td>2.890372</td>\n",
       "      <td>5.451038</td>\n",
       "      <td>6.347389</td>\n",
       "      <td>7.049255</td>\n",
       "      <td>4.488636</td>\n",
       "      <td>2.079442</td>\n",
       "      <td>2.397895</td>\n",
       "      <td>3.555348</td>\n",
       "      <td>4.488636</td>\n",
       "      <td>93</td>\n",
       "    </tr>\n",
       "    <tr>\n",
       "      <th>6</th>\n",
       "      <td>6.639876</td>\n",
       "      <td>8.624791</td>\n",
       "      <td>7.242798</td>\n",
       "      <td>1.421125</td>\n",
       "      <td>2.995732</td>\n",
       "      <td>5.361292</td>\n",
       "      <td>6.318968</td>\n",
       "      <td>7.113142</td>\n",
       "      <td>4.158883</td>\n",
       "      <td>1.386294</td>\n",
       "      <td>1.609438</td>\n",
       "      <td>3.891820</td>\n",
       "      <td>4.543295</td>\n",
       "      <td>87</td>\n",
       "    </tr>\n",
       "    <tr>\n",
       "      <th>7</th>\n",
       "      <td>6.570883</td>\n",
       "      <td>8.609955</td>\n",
       "      <td>7.223296</td>\n",
       "      <td>1.411645</td>\n",
       "      <td>3.044522</td>\n",
       "      <td>5.384495</td>\n",
       "      <td>6.037871</td>\n",
       "      <td>7.194437</td>\n",
       "      <td>3.806662</td>\n",
       "      <td>0.000000</td>\n",
       "      <td>2.397895</td>\n",
       "      <td>3.784190</td>\n",
       "      <td>4.356709</td>\n",
       "      <td>81</td>\n",
       "    </tr>\n",
       "    <tr>\n",
       "      <th>8</th>\n",
       "      <td>6.469250</td>\n",
       "      <td>8.609955</td>\n",
       "      <td>7.232733</td>\n",
       "      <td>1.423163</td>\n",
       "      <td>3.496508</td>\n",
       "      <td>5.123964</td>\n",
       "      <td>6.079933</td>\n",
       "      <td>7.178545</td>\n",
       "      <td>4.477337</td>\n",
       "      <td>0.693147</td>\n",
       "      <td>2.564949</td>\n",
       "      <td>4.110874</td>\n",
       "      <td>4.564348</td>\n",
       "      <td>80</td>\n",
       "    </tr>\n",
       "    <tr>\n",
       "      <th>9</th>\n",
       "      <td>6.618739</td>\n",
       "      <td>8.637817</td>\n",
       "      <td>7.310550</td>\n",
       "      <td>1.428357</td>\n",
       "      <td>3.526361</td>\n",
       "      <td>5.087596</td>\n",
       "      <td>6.171701</td>\n",
       "      <td>7.046647</td>\n",
       "      <td>4.276666</td>\n",
       "      <td>1.386294</td>\n",
       "      <td>2.397895</td>\n",
       "      <td>3.713572</td>\n",
       "      <td>4.584967</td>\n",
       "      <td>78</td>\n",
       "    </tr>\n",
       "    <tr>\n",
       "      <th>10</th>\n",
       "      <td>6.622736</td>\n",
       "      <td>8.614683</td>\n",
       "      <td>7.258412</td>\n",
       "      <td>1.423498</td>\n",
       "      <td>3.496508</td>\n",
       "      <td>5.153292</td>\n",
       "      <td>6.222576</td>\n",
       "      <td>7.118016</td>\n",
       "      <td>4.624973</td>\n",
       "      <td>1.791759</td>\n",
       "      <td>2.302585</td>\n",
       "      <td>3.828641</td>\n",
       "      <td>4.787492</td>\n",
       "      <td>88</td>\n",
       "    </tr>\n",
       "    <tr>\n",
       "      <th>11</th>\n",
       "      <td>6.593045</td>\n",
       "      <td>8.605204</td>\n",
       "      <td>7.218177</td>\n",
       "      <td>1.423163</td>\n",
       "      <td>3.295837</td>\n",
       "      <td>5.442418</td>\n",
       "      <td>6.188264</td>\n",
       "      <td>7.239215</td>\n",
       "      <td>4.804021</td>\n",
       "      <td>1.791759</td>\n",
       "      <td>2.639057</td>\n",
       "      <td>3.688879</td>\n",
       "      <td>4.454347</td>\n",
       "      <td>86</td>\n",
       "    </tr>\n",
       "    <tr>\n",
       "      <th>12</th>\n",
       "      <td>6.495266</td>\n",
       "      <td>8.597482</td>\n",
       "      <td>7.194437</td>\n",
       "      <td>1.410477</td>\n",
       "      <td>3.091042</td>\n",
       "      <td>5.176150</td>\n",
       "      <td>6.077642</td>\n",
       "      <td>7.048386</td>\n",
       "      <td>3.970292</td>\n",
       "      <td>1.098612</td>\n",
       "      <td>2.564949</td>\n",
       "      <td>3.850148</td>\n",
       "      <td>4.543295</td>\n",
       "      <td>85</td>\n",
       "    </tr>\n",
       "    <tr>\n",
       "      <th>13</th>\n",
       "      <td>6.487684</td>\n",
       "      <td>8.620652</td>\n",
       "      <td>7.229839</td>\n",
       "      <td>1.417610</td>\n",
       "      <td>3.135494</td>\n",
       "      <td>5.293305</td>\n",
       "      <td>6.171701</td>\n",
       "      <td>7.198184</td>\n",
       "      <td>4.248495</td>\n",
       "      <td>1.945910</td>\n",
       "      <td>2.564949</td>\n",
       "      <td>3.828641</td>\n",
       "      <td>4.553877</td>\n",
       "      <td>76</td>\n",
       "    </tr>\n",
       "    <tr>\n",
       "      <th>14</th>\n",
       "      <td>6.543912</td>\n",
       "      <td>8.630700</td>\n",
       "      <td>7.248504</td>\n",
       "      <td>1.422827</td>\n",
       "      <td>3.850148</td>\n",
       "      <td>4.990433</td>\n",
       "      <td>6.165418</td>\n",
       "      <td>7.021084</td>\n",
       "      <td>4.369448</td>\n",
       "      <td>1.791759</td>\n",
       "      <td>2.772589</td>\n",
       "      <td>3.367296</td>\n",
       "      <td>4.844187</td>\n",
       "      <td>68</td>\n",
       "    </tr>\n",
       "    <tr>\n",
       "      <th>15</th>\n",
       "      <td>6.473891</td>\n",
       "      <td>8.609772</td>\n",
       "      <td>7.234898</td>\n",
       "      <td>1.426448</td>\n",
       "      <td>3.688879</td>\n",
       "      <td>4.927254</td>\n",
       "      <td>6.228511</td>\n",
       "      <td>7.145196</td>\n",
       "      <td>4.248495</td>\n",
       "      <td>0.693147</td>\n",
       "      <td>2.772589</td>\n",
       "      <td>4.143135</td>\n",
       "      <td>4.574711</td>\n",
       "      <td>100</td>\n",
       "    </tr>\n",
       "    <tr>\n",
       "      <th>16</th>\n",
       "      <td>6.548219</td>\n",
       "      <td>8.636220</td>\n",
       "      <td>7.288244</td>\n",
       "      <td>1.427726</td>\n",
       "      <td>3.332205</td>\n",
       "      <td>4.948760</td>\n",
       "      <td>6.135565</td>\n",
       "      <td>7.187657</td>\n",
       "      <td>4.595120</td>\n",
       "      <td>0.000000</td>\n",
       "      <td>2.639057</td>\n",
       "      <td>4.007333</td>\n",
       "      <td>4.812184</td>\n",
       "      <td>98</td>\n",
       "    </tr>\n",
       "    <tr>\n",
       "      <th>17</th>\n",
       "      <td>6.536692</td>\n",
       "      <td>8.611048</td>\n",
       "      <td>7.201916</td>\n",
       "      <td>1.421125</td>\n",
       "      <td>3.433987</td>\n",
       "      <td>5.147494</td>\n",
       "      <td>6.342121</td>\n",
       "      <td>7.325808</td>\n",
       "      <td>4.564348</td>\n",
       "      <td>1.945910</td>\n",
       "      <td>3.091042</td>\n",
       "      <td>3.891820</td>\n",
       "      <td>4.718499</td>\n",
       "      <td>97</td>\n",
       "    </tr>\n",
       "    <tr>\n",
       "      <th>18</th>\n",
       "      <td>6.486161</td>\n",
       "      <td>8.609043</td>\n",
       "      <td>7.229114</td>\n",
       "      <td>1.421810</td>\n",
       "      <td>3.555348</td>\n",
       "      <td>4.983607</td>\n",
       "      <td>6.023448</td>\n",
       "      <td>7.170120</td>\n",
       "      <td>4.442651</td>\n",
       "      <td>0.693147</td>\n",
       "      <td>2.079442</td>\n",
       "      <td>3.713572</td>\n",
       "      <td>4.762174</td>\n",
       "      <td>68</td>\n",
       "    </tr>\n",
       "    <tr>\n",
       "      <th>19</th>\n",
       "      <td>6.463029</td>\n",
       "      <td>8.625509</td>\n",
       "      <td>7.232010</td>\n",
       "      <td>1.415792</td>\n",
       "      <td>3.332205</td>\n",
       "      <td>5.123964</td>\n",
       "      <td>6.208590</td>\n",
       "      <td>7.135687</td>\n",
       "      <td>4.905275</td>\n",
       "      <td>1.098612</td>\n",
       "      <td>2.197225</td>\n",
       "      <td>3.583519</td>\n",
       "      <td>4.510860</td>\n",
       "      <td>64</td>\n",
       "    </tr>\n",
       "    <tr>\n",
       "      <th>20</th>\n",
       "      <td>6.527958</td>\n",
       "      <td>8.617581</td>\n",
       "      <td>7.209340</td>\n",
       "      <td>1.428670</td>\n",
       "      <td>2.890372</td>\n",
       "      <td>5.181784</td>\n",
       "      <td>6.192362</td>\n",
       "      <td>7.163172</td>\n",
       "      <td>3.951244</td>\n",
       "      <td>0.693147</td>\n",
       "      <td>2.708050</td>\n",
       "      <td>3.931826</td>\n",
       "      <td>4.488636</td>\n",
       "      <td>90</td>\n",
       "    </tr>\n",
       "    <tr>\n",
       "      <th>21</th>\n",
       "      <td>6.556778</td>\n",
       "      <td>8.599510</td>\n",
       "      <td>7.218177</td>\n",
       "      <td>1.418680</td>\n",
       "      <td>2.639057</td>\n",
       "      <td>5.181784</td>\n",
       "      <td>6.291569</td>\n",
       "      <td>7.204149</td>\n",
       "      <td>4.060443</td>\n",
       "      <td>1.609438</td>\n",
       "      <td>2.639057</td>\n",
       "      <td>3.737670</td>\n",
       "      <td>4.510860</td>\n",
       "      <td>83</td>\n",
       "    </tr>\n",
       "    <tr>\n",
       "      <th>22</th>\n",
       "      <td>6.419995</td>\n",
       "      <td>8.605936</td>\n",
       "      <td>7.259116</td>\n",
       "      <td>1.407683</td>\n",
       "      <td>3.713572</td>\n",
       "      <td>4.795791</td>\n",
       "      <td>5.929589</td>\n",
       "      <td>7.048386</td>\n",
       "      <td>4.727388</td>\n",
       "      <td>0.000000</td>\n",
       "      <td>2.564949</td>\n",
       "      <td>3.583519</td>\n",
       "      <td>4.356709</td>\n",
       "      <td>71</td>\n",
       "    </tr>\n",
       "    <tr>\n",
       "      <th>23</th>\n",
       "      <td>6.352629</td>\n",
       "      <td>8.598036</td>\n",
       "      <td>7.216709</td>\n",
       "      <td>1.413557</td>\n",
       "      <td>2.944439</td>\n",
       "      <td>4.615121</td>\n",
       "      <td>6.156979</td>\n",
       "      <td>7.010312</td>\n",
       "      <td>4.248495</td>\n",
       "      <td>1.386294</td>\n",
       "      <td>2.397895</td>\n",
       "      <td>3.806662</td>\n",
       "      <td>4.510860</td>\n",
       "      <td>67</td>\n",
       "    </tr>\n",
       "    <tr>\n",
       "      <th>24</th>\n",
       "      <td>6.440947</td>\n",
       "      <td>8.617943</td>\n",
       "      <td>7.226209</td>\n",
       "      <td>1.421125</td>\n",
       "      <td>3.637586</td>\n",
       "      <td>4.875197</td>\n",
       "      <td>5.961005</td>\n",
       "      <td>7.150701</td>\n",
       "      <td>4.488636</td>\n",
       "      <td>0.693147</td>\n",
       "      <td>2.079442</td>\n",
       "      <td>3.583519</td>\n",
       "      <td>4.770685</td>\n",
       "      <td>63</td>\n",
       "    </tr>\n",
       "    <tr>\n",
       "      <th>25</th>\n",
       "      <td>6.504288</td>\n",
       "      <td>8.591558</td>\n",
       "      <td>7.205635</td>\n",
       "      <td>1.417968</td>\n",
       "      <td>3.295837</td>\n",
       "      <td>5.236442</td>\n",
       "      <td>6.335054</td>\n",
       "      <td>7.138073</td>\n",
       "      <td>4.094345</td>\n",
       "      <td>1.945910</td>\n",
       "      <td>3.091042</td>\n",
       "      <td>3.871201</td>\n",
       "      <td>4.330733</td>\n",
       "      <td>92</td>\n",
       "    </tr>\n",
       "    <tr>\n",
       "      <th>26</th>\n",
       "      <td>6.546785</td>\n",
       "      <td>8.624432</td>\n",
       "      <td>7.304516</td>\n",
       "      <td>1.426448</td>\n",
       "      <td>3.688879</td>\n",
       "      <td>4.919981</td>\n",
       "      <td>6.126869</td>\n",
       "      <td>7.056175</td>\n",
       "      <td>4.543295</td>\n",
       "      <td>2.079442</td>\n",
       "      <td>2.944439</td>\n",
       "      <td>3.737670</td>\n",
       "      <td>4.369448</td>\n",
       "      <td>84</td>\n",
       "    </tr>\n",
       "    <tr>\n",
       "      <th>27</th>\n",
       "      <td>6.580639</td>\n",
       "      <td>8.639411</td>\n",
       "      <td>7.309881</td>\n",
       "      <td>1.426770</td>\n",
       "      <td>3.891820</td>\n",
       "      <td>5.043425</td>\n",
       "      <td>6.196444</td>\n",
       "      <td>7.180070</td>\n",
       "      <td>4.890349</td>\n",
       "      <td>0.693147</td>\n",
       "      <td>2.564949</td>\n",
       "      <td>3.806662</td>\n",
       "      <td>4.465908</td>\n",
       "      <td>79</td>\n",
       "    </tr>\n",
       "    <tr>\n",
       "      <th>28</th>\n",
       "      <td>6.478510</td>\n",
       "      <td>8.604838</td>\n",
       "      <td>7.189168</td>\n",
       "      <td>1.416888</td>\n",
       "      <td>3.610918</td>\n",
       "      <td>5.003946</td>\n",
       "      <td>6.056784</td>\n",
       "      <td>7.191429</td>\n",
       "      <td>4.418841</td>\n",
       "      <td>0.693147</td>\n",
       "      <td>1.945910</td>\n",
       "      <td>3.737670</td>\n",
       "      <td>4.532599</td>\n",
       "      <td>74</td>\n",
       "    </tr>\n",
       "    <tr>\n",
       "      <th>29</th>\n",
       "      <td>6.603944</td>\n",
       "      <td>8.625689</td>\n",
       "      <td>7.299797</td>\n",
       "      <td>1.421810</td>\n",
       "      <td>3.912023</td>\n",
       "      <td>5.231109</td>\n",
       "      <td>5.963579</td>\n",
       "      <td>7.157735</td>\n",
       "      <td>4.584967</td>\n",
       "      <td>1.609438</td>\n",
       "      <td>1.609438</td>\n",
       "      <td>3.610918</td>\n",
       "      <td>4.564348</td>\n",
       "      <td>68</td>\n",
       "    </tr>\n",
       "  </tbody>\n",
       "</table>\n",
       "</div>"
      ],
      "text/plain": [
       "           R        AB         H        2B        3B        HR        BB  \\\n",
       "0   6.586172  8.626227  7.311886  1.430220  3.761200  4.941642  5.950643   \n",
       "1   6.546785  8.606668  7.207860  1.422827  3.806662  5.056246  6.086775   \n",
       "2   6.507278  8.601534  7.241366  1.431135  3.401197  4.955827  6.280396   \n",
       "3   6.434547  8.618666  7.231287  1.416888  3.332205  4.919981  6.003887   \n",
       "4   6.536692  8.631593  7.323831  1.426770  3.912023  5.023881  6.122493   \n",
       "5   6.793466  8.614320  7.300473  1.432638  2.890372  5.451038  6.347389   \n",
       "6   6.639876  8.624791  7.242798  1.421125  2.995732  5.361292  6.318968   \n",
       "7   6.570883  8.609955  7.223296  1.411645  3.044522  5.384495  6.037871   \n",
       "8   6.469250  8.609955  7.232733  1.423163  3.496508  5.123964  6.079933   \n",
       "9   6.618739  8.637817  7.310550  1.428357  3.526361  5.087596  6.171701   \n",
       "10  6.622736  8.614683  7.258412  1.423498  3.496508  5.153292  6.222576   \n",
       "11  6.593045  8.605204  7.218177  1.423163  3.295837  5.442418  6.188264   \n",
       "12  6.495266  8.597482  7.194437  1.410477  3.091042  5.176150  6.077642   \n",
       "13  6.487684  8.620652  7.229839  1.417610  3.135494  5.293305  6.171701   \n",
       "14  6.543912  8.630700  7.248504  1.422827  3.850148  4.990433  6.165418   \n",
       "15  6.473891  8.609772  7.234898  1.426448  3.688879  4.927254  6.228511   \n",
       "16  6.548219  8.636220  7.288244  1.427726  3.332205  4.948760  6.135565   \n",
       "17  6.536692  8.611048  7.201916  1.421125  3.433987  5.147494  6.342121   \n",
       "18  6.486161  8.609043  7.229114  1.421810  3.555348  4.983607  6.023448   \n",
       "19  6.463029  8.625509  7.232010  1.415792  3.332205  5.123964  6.208590   \n",
       "20  6.527958  8.617581  7.209340  1.428670  2.890372  5.181784  6.192362   \n",
       "21  6.556778  8.599510  7.218177  1.418680  2.639057  5.181784  6.291569   \n",
       "22  6.419995  8.605936  7.259116  1.407683  3.713572  4.795791  5.929589   \n",
       "23  6.352629  8.598036  7.216709  1.413557  2.944439  4.615121  6.156979   \n",
       "24  6.440947  8.617943  7.226209  1.421125  3.637586  4.875197  5.961005   \n",
       "25  6.504288  8.591558  7.205635  1.417968  3.295837  5.236442  6.335054   \n",
       "26  6.546785  8.624432  7.304516  1.426448  3.688879  4.919981  6.126869   \n",
       "27  6.580639  8.639411  7.309881  1.426770  3.891820  5.043425  6.196444   \n",
       "28  6.478510  8.604838  7.189168  1.416888  3.610918  5.003946  6.056784   \n",
       "29  6.603944  8.625689  7.299797  1.421810  3.912023  5.231109  5.963579   \n",
       "\n",
       "          SO        SB        CG       SHO        SV         E    W  \n",
       "0   6.881411  4.653960  1.098612  2.197225  4.043051  4.488636   95  \n",
       "1   7.142827  4.262680  1.098612  2.564949  3.828641  4.465908   83  \n",
       "2   7.054450  4.465908  2.484907  2.397895  3.663562  4.382027   81  \n",
       "3   7.116394  4.234107  2.079442  2.302585  3.637586  4.624973   76  \n",
       "4   7.138867  4.430817  2.079442  2.564949  3.583519  4.465908   74  \n",
       "5   7.049255  4.488636  2.079442  2.397895  3.555348  4.488636   93  \n",
       "6   7.113142  4.158883  1.386294  1.609438  3.891820  4.543295   87  \n",
       "7   7.194437  3.806662  0.000000  2.397895  3.784190  4.356709   81  \n",
       "8   7.178545  4.477337  0.693147  2.564949  4.110874  4.564348   80  \n",
       "9   7.046647  4.276666  1.386294  2.397895  3.713572  4.584967   78  \n",
       "10  7.118016  4.624973  1.791759  2.302585  3.828641  4.787492   88  \n",
       "11  7.239215  4.804021  1.791759  2.639057  3.688879  4.454347   86  \n",
       "12  7.048386  3.970292  1.098612  2.564949  3.850148  4.543295   85  \n",
       "13  7.198184  4.248495  1.945910  2.564949  3.828641  4.553877   76  \n",
       "14  7.021084  4.369448  1.791759  2.772589  3.367296  4.844187   68  \n",
       "15  7.145196  4.248495  0.693147  2.772589  4.143135  4.574711  100  \n",
       "16  7.187657  4.595120  0.000000  2.639057  4.007333  4.812184   98  \n",
       "17  7.325808  4.564348  1.945910  3.091042  3.891820  4.718499   97  \n",
       "18  7.170120  4.442651  0.693147  2.079442  3.713572  4.762174   68  \n",
       "19  7.135687  4.905275  1.098612  2.197225  3.583519  4.510860   64  \n",
       "20  7.163172  3.951244  0.693147  2.708050  3.931826  4.488636   90  \n",
       "21  7.204149  4.060443  1.609438  2.639057  3.737670  4.510860   83  \n",
       "22  7.048386  4.727388  0.000000  2.564949  3.583519  4.356709   71  \n",
       "23  7.010312  4.248495  1.386294  2.397895  3.806662  4.510860   67  \n",
       "24  7.150701  4.488636  0.693147  2.079442  3.583519  4.770685   63  \n",
       "25  7.138073  4.094345  1.945910  3.091042  3.871201  4.330733   92  \n",
       "26  7.056175  4.543295  2.079442  2.944439  3.737670  4.369448   84  \n",
       "27  7.180070  4.890349  0.693147  2.564949  3.806662  4.465908   79  \n",
       "28  7.191429  4.418841  0.693147  1.945910  3.737670  4.532599   74  \n",
       "29  7.157735  4.584967  1.609438  1.609438  3.610918  4.564348   68  "
      ]
     },
     "execution_count": 75,
     "metadata": {},
     "output_type": "execute_result"
    }
   ],
   "source": [
    "df"
   ]
  },
  {
   "cell_type": "code",
   "execution_count": 76,
   "metadata": {},
   "outputs": [],
   "source": [
    "df_new = df[(z<3).all(axis=1)]"
   ]
  },
  {
   "cell_type": "code",
   "execution_count": 77,
   "metadata": {},
   "outputs": [
    {
     "data": {
      "text/plain": [
       "(29, 14)"
      ]
     },
     "execution_count": 77,
     "metadata": {},
     "output_type": "execute_result"
    }
   ],
   "source": [
    "df_new.shape"
   ]
  },
  {
   "cell_type": "code",
   "execution_count": 78,
   "metadata": {},
   "outputs": [
    {
     "data": {
      "text/html": [
       "<div>\n",
       "<style scoped>\n",
       "    .dataframe tbody tr th:only-of-type {\n",
       "        vertical-align: middle;\n",
       "    }\n",
       "\n",
       "    .dataframe tbody tr th {\n",
       "        vertical-align: top;\n",
       "    }\n",
       "\n",
       "    .dataframe thead th {\n",
       "        text-align: right;\n",
       "    }\n",
       "</style>\n",
       "<table border=\"1\" class=\"dataframe\">\n",
       "  <thead>\n",
       "    <tr style=\"text-align: right;\">\n",
       "      <th></th>\n",
       "      <th>R</th>\n",
       "      <th>AB</th>\n",
       "      <th>H</th>\n",
       "      <th>2B</th>\n",
       "      <th>3B</th>\n",
       "      <th>HR</th>\n",
       "      <th>BB</th>\n",
       "      <th>SO</th>\n",
       "      <th>SB</th>\n",
       "      <th>CG</th>\n",
       "      <th>SHO</th>\n",
       "      <th>SV</th>\n",
       "      <th>E</th>\n",
       "      <th>W</th>\n",
       "    </tr>\n",
       "  </thead>\n",
       "  <tbody>\n",
       "    <tr>\n",
       "      <th>0</th>\n",
       "      <td>6.586172</td>\n",
       "      <td>8.626227</td>\n",
       "      <td>7.311886</td>\n",
       "      <td>1.430220</td>\n",
       "      <td>3.761200</td>\n",
       "      <td>4.941642</td>\n",
       "      <td>5.950643</td>\n",
       "      <td>6.881411</td>\n",
       "      <td>4.653960</td>\n",
       "      <td>1.098612</td>\n",
       "      <td>2.197225</td>\n",
       "      <td>4.043051</td>\n",
       "      <td>4.488636</td>\n",
       "      <td>95</td>\n",
       "    </tr>\n",
       "    <tr>\n",
       "      <th>1</th>\n",
       "      <td>6.546785</td>\n",
       "      <td>8.606668</td>\n",
       "      <td>7.207860</td>\n",
       "      <td>1.422827</td>\n",
       "      <td>3.806662</td>\n",
       "      <td>5.056246</td>\n",
       "      <td>6.086775</td>\n",
       "      <td>7.142827</td>\n",
       "      <td>4.262680</td>\n",
       "      <td>1.098612</td>\n",
       "      <td>2.564949</td>\n",
       "      <td>3.828641</td>\n",
       "      <td>4.465908</td>\n",
       "      <td>83</td>\n",
       "    </tr>\n",
       "    <tr>\n",
       "      <th>2</th>\n",
       "      <td>6.507278</td>\n",
       "      <td>8.601534</td>\n",
       "      <td>7.241366</td>\n",
       "      <td>1.431135</td>\n",
       "      <td>3.401197</td>\n",
       "      <td>4.955827</td>\n",
       "      <td>6.280396</td>\n",
       "      <td>7.054450</td>\n",
       "      <td>4.465908</td>\n",
       "      <td>2.484907</td>\n",
       "      <td>2.397895</td>\n",
       "      <td>3.663562</td>\n",
       "      <td>4.382027</td>\n",
       "      <td>81</td>\n",
       "    </tr>\n",
       "    <tr>\n",
       "      <th>3</th>\n",
       "      <td>6.434547</td>\n",
       "      <td>8.618666</td>\n",
       "      <td>7.231287</td>\n",
       "      <td>1.416888</td>\n",
       "      <td>3.332205</td>\n",
       "      <td>4.919981</td>\n",
       "      <td>6.003887</td>\n",
       "      <td>7.116394</td>\n",
       "      <td>4.234107</td>\n",
       "      <td>2.079442</td>\n",
       "      <td>2.302585</td>\n",
       "      <td>3.637586</td>\n",
       "      <td>4.624973</td>\n",
       "      <td>76</td>\n",
       "    </tr>\n",
       "    <tr>\n",
       "      <th>4</th>\n",
       "      <td>6.536692</td>\n",
       "      <td>8.631593</td>\n",
       "      <td>7.323831</td>\n",
       "      <td>1.426770</td>\n",
       "      <td>3.912023</td>\n",
       "      <td>5.023881</td>\n",
       "      <td>6.122493</td>\n",
       "      <td>7.138867</td>\n",
       "      <td>4.430817</td>\n",
       "      <td>2.079442</td>\n",
       "      <td>2.564949</td>\n",
       "      <td>3.583519</td>\n",
       "      <td>4.465908</td>\n",
       "      <td>74</td>\n",
       "    </tr>\n",
       "  </tbody>\n",
       "</table>\n",
       "</div>"
      ],
      "text/plain": [
       "          R        AB         H        2B        3B        HR        BB  \\\n",
       "0  6.586172  8.626227  7.311886  1.430220  3.761200  4.941642  5.950643   \n",
       "1  6.546785  8.606668  7.207860  1.422827  3.806662  5.056246  6.086775   \n",
       "2  6.507278  8.601534  7.241366  1.431135  3.401197  4.955827  6.280396   \n",
       "3  6.434547  8.618666  7.231287  1.416888  3.332205  4.919981  6.003887   \n",
       "4  6.536692  8.631593  7.323831  1.426770  3.912023  5.023881  6.122493   \n",
       "\n",
       "         SO        SB        CG       SHO        SV         E   W  \n",
       "0  6.881411  4.653960  1.098612  2.197225  4.043051  4.488636  95  \n",
       "1  7.142827  4.262680  1.098612  2.564949  3.828641  4.465908  83  \n",
       "2  7.054450  4.465908  2.484907  2.397895  3.663562  4.382027  81  \n",
       "3  7.116394  4.234107  2.079442  2.302585  3.637586  4.624973  76  \n",
       "4  7.138867  4.430817  2.079442  2.564949  3.583519  4.465908  74  "
      ]
     },
     "execution_count": 78,
     "metadata": {},
     "output_type": "execute_result"
    }
   ],
   "source": [
    "df_new.head()"
   ]
  },
  {
   "cell_type": "markdown",
   "metadata": {},
   "source": [
    "Now we shall forward the refined dataset for predicting the wins"
   ]
  },
  {
   "cell_type": "markdown",
   "metadata": {},
   "source": [
    "## Building a Predictive Model"
   ]
  },
  {
   "cell_type": "markdown",
   "metadata": {},
   "source": [
    "In this case, the Winning consists of continous values i.e - integer data types.\n",
    "\n",
    "Hence, to predict the wins, we have to employ Linear Regression model.\n"
   ]
  },
  {
   "cell_type": "code",
   "execution_count": 82,
   "metadata": {},
   "outputs": [],
   "source": [
    "from sklearn.model_selection import train_test_split\n",
    "from sklearn.linear_model import LinearRegression"
   ]
  },
  {
   "cell_type": "markdown",
   "metadata": {},
   "source": [
    "### Linear Regression"
   ]
  },
  {
   "cell_type": "code",
   "execution_count": 83,
   "metadata": {},
   "outputs": [],
   "source": [
    "X = df_new.drop('W', axis = 1)"
   ]
  },
  {
   "cell_type": "code",
   "execution_count": 84,
   "metadata": {},
   "outputs": [],
   "source": [
    "Y = df_new['W']"
   ]
  },
  {
   "cell_type": "code",
   "execution_count": 85,
   "metadata": {},
   "outputs": [
    {
     "name": "stdout",
     "output_type": "stream",
     "text": [
      "           R        AB         H        2B        3B        HR        BB  \\\n",
      "0   6.586172  8.626227  7.311886  1.430220  3.761200  4.941642  5.950643   \n",
      "1   6.546785  8.606668  7.207860  1.422827  3.806662  5.056246  6.086775   \n",
      "2   6.507278  8.601534  7.241366  1.431135  3.401197  4.955827  6.280396   \n",
      "3   6.434547  8.618666  7.231287  1.416888  3.332205  4.919981  6.003887   \n",
      "4   6.536692  8.631593  7.323831  1.426770  3.912023  5.023881  6.122493   \n",
      "6   6.639876  8.624791  7.242798  1.421125  2.995732  5.361292  6.318968   \n",
      "7   6.570883  8.609955  7.223296  1.411645  3.044522  5.384495  6.037871   \n",
      "8   6.469250  8.609955  7.232733  1.423163  3.496508  5.123964  6.079933   \n",
      "9   6.618739  8.637817  7.310550  1.428357  3.526361  5.087596  6.171701   \n",
      "10  6.622736  8.614683  7.258412  1.423498  3.496508  5.153292  6.222576   \n",
      "11  6.593045  8.605204  7.218177  1.423163  3.295837  5.442418  6.188264   \n",
      "12  6.495266  8.597482  7.194437  1.410477  3.091042  5.176150  6.077642   \n",
      "13  6.487684  8.620652  7.229839  1.417610  3.135494  5.293305  6.171701   \n",
      "14  6.543912  8.630700  7.248504  1.422827  3.850148  4.990433  6.165418   \n",
      "15  6.473891  8.609772  7.234898  1.426448  3.688879  4.927254  6.228511   \n",
      "16  6.548219  8.636220  7.288244  1.427726  3.332205  4.948760  6.135565   \n",
      "17  6.536692  8.611048  7.201916  1.421125  3.433987  5.147494  6.342121   \n",
      "18  6.486161  8.609043  7.229114  1.421810  3.555348  4.983607  6.023448   \n",
      "19  6.463029  8.625509  7.232010  1.415792  3.332205  5.123964  6.208590   \n",
      "20  6.527958  8.617581  7.209340  1.428670  2.890372  5.181784  6.192362   \n",
      "21  6.556778  8.599510  7.218177  1.418680  2.639057  5.181784  6.291569   \n",
      "22  6.419995  8.605936  7.259116  1.407683  3.713572  4.795791  5.929589   \n",
      "23  6.352629  8.598036  7.216709  1.413557  2.944439  4.615121  6.156979   \n",
      "24  6.440947  8.617943  7.226209  1.421125  3.637586  4.875197  5.961005   \n",
      "25  6.504288  8.591558  7.205635  1.417968  3.295837  5.236442  6.335054   \n",
      "26  6.546785  8.624432  7.304516  1.426448  3.688879  4.919981  6.126869   \n",
      "27  6.580639  8.639411  7.309881  1.426770  3.891820  5.043425  6.196444   \n",
      "28  6.478510  8.604838  7.189168  1.416888  3.610918  5.003946  6.056784   \n",
      "29  6.603944  8.625689  7.299797  1.421810  3.912023  5.231109  5.963579   \n",
      "\n",
      "          SO        SB        CG       SHO        SV         E  \n",
      "0   6.881411  4.653960  1.098612  2.197225  4.043051  4.488636  \n",
      "1   7.142827  4.262680  1.098612  2.564949  3.828641  4.465908  \n",
      "2   7.054450  4.465908  2.484907  2.397895  3.663562  4.382027  \n",
      "3   7.116394  4.234107  2.079442  2.302585  3.637586  4.624973  \n",
      "4   7.138867  4.430817  2.079442  2.564949  3.583519  4.465908  \n",
      "6   7.113142  4.158883  1.386294  1.609438  3.891820  4.543295  \n",
      "7   7.194437  3.806662  0.000000  2.397895  3.784190  4.356709  \n",
      "8   7.178545  4.477337  0.693147  2.564949  4.110874  4.564348  \n",
      "9   7.046647  4.276666  1.386294  2.397895  3.713572  4.584967  \n",
      "10  7.118016  4.624973  1.791759  2.302585  3.828641  4.787492  \n",
      "11  7.239215  4.804021  1.791759  2.639057  3.688879  4.454347  \n",
      "12  7.048386  3.970292  1.098612  2.564949  3.850148  4.543295  \n",
      "13  7.198184  4.248495  1.945910  2.564949  3.828641  4.553877  \n",
      "14  7.021084  4.369448  1.791759  2.772589  3.367296  4.844187  \n",
      "15  7.145196  4.248495  0.693147  2.772589  4.143135  4.574711  \n",
      "16  7.187657  4.595120  0.000000  2.639057  4.007333  4.812184  \n",
      "17  7.325808  4.564348  1.945910  3.091042  3.891820  4.718499  \n",
      "18  7.170120  4.442651  0.693147  2.079442  3.713572  4.762174  \n",
      "19  7.135687  4.905275  1.098612  2.197225  3.583519  4.510860  \n",
      "20  7.163172  3.951244  0.693147  2.708050  3.931826  4.488636  \n",
      "21  7.204149  4.060443  1.609438  2.639057  3.737670  4.510860  \n",
      "22  7.048386  4.727388  0.000000  2.564949  3.583519  4.356709  \n",
      "23  7.010312  4.248495  1.386294  2.397895  3.806662  4.510860  \n",
      "24  7.150701  4.488636  0.693147  2.079442  3.583519  4.770685  \n",
      "25  7.138073  4.094345  1.945910  3.091042  3.871201  4.330733  \n",
      "26  7.056175  4.543295  2.079442  2.944439  3.737670  4.369448  \n",
      "27  7.180070  4.890349  0.693147  2.564949  3.806662  4.465908  \n",
      "28  7.191429  4.418841  0.693147  1.945910  3.737670  4.532599  \n",
      "29  7.157735  4.584967  1.609438  1.609438  3.610918  4.564348  \n"
     ]
    }
   ],
   "source": [
    "print(X)"
   ]
  },
  {
   "cell_type": "code",
   "execution_count": 86,
   "metadata": {},
   "outputs": [
    {
     "name": "stdout",
     "output_type": "stream",
     "text": [
      "0      95\n",
      "1      83\n",
      "2      81\n",
      "3      76\n",
      "4      74\n",
      "6      87\n",
      "7      81\n",
      "8      80\n",
      "9      78\n",
      "10     88\n",
      "11     86\n",
      "12     85\n",
      "13     76\n",
      "14     68\n",
      "15    100\n",
      "16     98\n",
      "17     97\n",
      "18     68\n",
      "19     64\n",
      "20     90\n",
      "21     83\n",
      "22     71\n",
      "23     67\n",
      "24     63\n",
      "25     92\n",
      "26     84\n",
      "27     79\n",
      "28     74\n",
      "29     68\n",
      "Name: W, dtype: int64\n"
     ]
    }
   ],
   "source": [
    "print(Y)"
   ]
  },
  {
   "cell_type": "code",
   "execution_count": 98,
   "metadata": {},
   "outputs": [],
   "source": [
    "X_train, X_test, Y_train, Y_test = train_test_split(X, Y, test_size=0.42, random_state=3)"
   ]
  },
  {
   "cell_type": "code",
   "execution_count": 102,
   "metadata": {},
   "outputs": [
    {
     "data": {
      "text/plain": [
       "(16, 13)"
      ]
     },
     "execution_count": 102,
     "metadata": {},
     "output_type": "execute_result"
    }
   ],
   "source": [
    "X_train.shape"
   ]
  },
  {
   "cell_type": "code",
   "execution_count": 104,
   "metadata": {},
   "outputs": [
    {
     "data": {
      "text/plain": [
       "(16,)"
      ]
     },
     "execution_count": 104,
     "metadata": {},
     "output_type": "execute_result"
    }
   ],
   "source": [
    "Y_train.shape"
   ]
  },
  {
   "cell_type": "code",
   "execution_count": 105,
   "metadata": {},
   "outputs": [
    {
     "data": {
      "text/plain": [
       "(13, 13)"
      ]
     },
     "execution_count": 105,
     "metadata": {},
     "output_type": "execute_result"
    }
   ],
   "source": [
    "X_test.shape"
   ]
  },
  {
   "cell_type": "code",
   "execution_count": 106,
   "metadata": {},
   "outputs": [
    {
     "data": {
      "text/plain": [
       "(13,)"
      ]
     },
     "execution_count": 106,
     "metadata": {},
     "output_type": "execute_result"
    }
   ],
   "source": [
    "Y_test.shape"
   ]
  },
  {
   "cell_type": "code",
   "execution_count": 99,
   "metadata": {},
   "outputs": [],
   "source": [
    "lr=LinearRegression()\n",
    "lr.fit(X_train, Y_train)\n",
    "predlr = lr.predict(X_test)"
   ]
  },
  {
   "cell_type": "code",
   "execution_count": 100,
   "metadata": {},
   "outputs": [
    {
     "data": {
      "text/plain": [
       "0.9474663153938131"
      ]
     },
     "execution_count": 100,
     "metadata": {},
     "output_type": "execute_result"
    }
   ],
   "source": [
    "lr.score(X_train,Y_train)"
   ]
  },
  {
   "cell_type": "code",
   "execution_count": 107,
   "metadata": {},
   "outputs": [
    {
     "data": {
      "text/plain": [
       "array([  89.43775961,  109.1217227 , -161.35638393,   -6.72910237,\n",
       "         -4.76333604,   -8.2035398 ,   -7.27776111,  -42.55375295,\n",
       "          5.83525584,    3.31700991,    7.02295802,   24.8130245 ,\n",
       "        -14.63769465])"
      ]
     },
     "execution_count": 107,
     "metadata": {},
     "output_type": "execute_result"
    }
   ],
   "source": [
    "lr.coef_"
   ]
  },
  {
   "cell_type": "code",
   "execution_count": 108,
   "metadata": {},
   "outputs": [
    {
     "data": {
      "text/plain": [
       "66.86232514188714"
      ]
     },
     "execution_count": 108,
     "metadata": {},
     "output_type": "execute_result"
    }
   ],
   "source": [
    "lr.intercept_"
   ]
  },
  {
   "cell_type": "code",
   "execution_count": null,
   "metadata": {},
   "outputs": [],
   "source": []
  },
  {
   "cell_type": "code",
   "execution_count": null,
   "metadata": {},
   "outputs": [],
   "source": []
  },
  {
   "cell_type": "code",
   "execution_count": null,
   "metadata": {},
   "outputs": [],
   "source": []
  },
  {
   "cell_type": "code",
   "execution_count": null,
   "metadata": {},
   "outputs": [],
   "source": []
  },
  {
   "cell_type": "code",
   "execution_count": null,
   "metadata": {},
   "outputs": [],
   "source": []
  },
  {
   "cell_type": "markdown",
   "metadata": {},
   "source": [
    "## Mean Squared Error and Mean Absolute Error"
   ]
  },
  {
   "cell_type": "code",
   "execution_count": 90,
   "metadata": {},
   "outputs": [],
   "source": [
    "from sklearn.metrics import mean_squared_error, mean_absolute_error"
   ]
  },
  {
   "cell_type": "code",
   "execution_count": 91,
   "metadata": {},
   "outputs": [
    {
     "name": "stdout",
     "output_type": "stream",
     "text": [
      "Mean Squared Error:  95.69398598582825\n"
     ]
    }
   ],
   "source": [
    "print(\"Mean Squared Error: \", mean_squared_error(Y_test,predlr))"
   ]
  },
  {
   "cell_type": "code",
   "execution_count": 111,
   "metadata": {},
   "outputs": [
    {
     "name": "stdout",
     "output_type": "stream",
     "text": [
      "Root Mean Squared Error:  9.782330294251377\n"
     ]
    }
   ],
   "source": [
    "print(\"Root Mean Squared Error: \", np.sqrt(mean_squared_error(Y_test,predlr)))"
   ]
  },
  {
   "cell_type": "code",
   "execution_count": 92,
   "metadata": {},
   "outputs": [
    {
     "name": "stdout",
     "output_type": "stream",
     "text": [
      "Mean Absolute Error:  7.782427700157911\n"
     ]
    }
   ],
   "source": [
    "print(\"Mean Absolute Error: \", mean_absolute_error(Y_test,predlr))"
   ]
  },
  {
   "cell_type": "markdown",
   "metadata": {},
   "source": [
    "## r2 Score"
   ]
  },
  {
   "cell_type": "code",
   "execution_count": 93,
   "metadata": {},
   "outputs": [],
   "source": [
    "from sklearn.metrics import r2_score"
   ]
  },
  {
   "cell_type": "code",
   "execution_count": 94,
   "metadata": {},
   "outputs": [
    {
     "data": {
      "text/plain": [
       "0.3904152419297032"
      ]
     },
     "execution_count": 94,
     "metadata": {},
     "output_type": "execute_result"
    }
   ],
   "source": [
    "r2_score(Y_test,predlr)"
   ]
  },
  {
   "cell_type": "code",
   "execution_count": null,
   "metadata": {},
   "outputs": [],
   "source": []
  }
 ],
 "metadata": {
  "kernelspec": {
   "display_name": "Python 3",
   "language": "python",
   "name": "python3"
  },
  "language_info": {
   "codemirror_mode": {
    "name": "ipython",
    "version": 3
   },
   "file_extension": ".py",
   "mimetype": "text/x-python",
   "name": "python",
   "nbconvert_exporter": "python",
   "pygments_lexer": "ipython3",
   "version": "3.8.5"
  }
 },
 "nbformat": 4,
 "nbformat_minor": 4
}
